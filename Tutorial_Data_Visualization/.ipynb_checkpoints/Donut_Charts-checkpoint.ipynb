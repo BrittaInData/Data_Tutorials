{
 "cells": [
  {
   "cell_type": "markdown",
   "metadata": {},
   "source": [
    "# Tutorial Data Visualization"
   ]
  },
  {
   "cell_type": "markdown",
   "metadata": {},
   "source": [
    "## Donut Charts\n",
    "\n",
    "**A donut chart is essentially a Pie Chart with an area of the centre cut out.**\n",
    "\n",
    "Pie Charts are sometimes criticised for focusing readers on the proportional areas of the slices to one another and to the chart as a whole. This makes it tricky to see the differences between slices, especially when you try to compare multiple Pie Charts together. A Donut Chart somewhat remedies this problem by de-emphasizing the use of the area. Instead, readers focus more on reading the length of the arcs, rather than comparing the proportions between slices. Also, Donut Charts are more space-efficient than Pie Charts because the blank space inside a Donut Chart can be used to display information inside it."
   ]
  },
  {
   "cell_type": "markdown",
   "metadata": {},
   "source": [
    "## Road Traffic Data\n",
    "\n",
    "The dataset provides detailed road safety data from 2013 to 2017 about the circumstances of personal injury road accidents in the UK. If you're interested, you can found even more data [here](https://data.gov.uk/dataset/cb7ae6f0-4be6-4935-9277-47e5ce24a11f/road-safety-data)."
   ]
  },
  {
   "cell_type": "markdown",
   "metadata": {},
   "source": [
    "***Loading the Data***"
   ]
  },
  {
   "cell_type": "code",
   "execution_count": 1,
   "metadata": {},
   "outputs": [],
   "source": [
    "# import the usual suspects ...\n",
    "import pandas as pd\n",
    "import numpy as np\n",
    "import matplotlib.pyplot as plt\n",
    "import seaborn as sns\n",
    "\n",
    "# the glob module finds all the pathnames matching a specified pattern\n",
    "import glob\n",
    "\n",
    "# suppress all warnings\n",
    "import warnings\n",
    "warnings.filterwarnings(\"ignore\")"
   ]
  },
  {
   "cell_type": "markdown",
   "metadata": {},
   "source": [
    "We have one file for each year. To get some ideas on how to elegantly read in multiple files in Pandas, check this [link](https://medium.com/@kadek/elegantly-reading-multiple-csvs-into-pandas-e1a76843b688)."
   ]
  },
  {
   "cell_type": "code",
   "execution_count": 2,
   "metadata": {},
   "outputs": [
    {
     "name": "stdout",
     "output_type": "stream",
     "text": [
      "Records: 691641 \n",
      "Columns: 32\n"
     ]
    },
    {
     "data": {
      "text/html": [
       "<div>\n",
       "<style scoped>\n",
       "    .dataframe tbody tr th:only-of-type {\n",
       "        vertical-align: middle;\n",
       "    }\n",
       "\n",
       "    .dataframe tbody tr th {\n",
       "        vertical-align: top;\n",
       "    }\n",
       "\n",
       "    .dataframe thead th {\n",
       "        text-align: right;\n",
       "    }\n",
       "</style>\n",
       "<table border=\"1\" class=\"dataframe\">\n",
       "  <thead>\n",
       "    <tr style=\"text-align: right;\">\n",
       "      <th></th>\n",
       "      <th>Accident_Index</th>\n",
       "      <th>Location_Easting_OSGR</th>\n",
       "      <th>Location_Northing_OSGR</th>\n",
       "      <th>Longitude</th>\n",
       "      <th>Latitude</th>\n",
       "      <th>Police_Force</th>\n",
       "      <th>Accident_Severity</th>\n",
       "      <th>Number_of_Vehicles</th>\n",
       "      <th>Number_of_Casualties</th>\n",
       "      <th>Date</th>\n",
       "      <th>...</th>\n",
       "      <th>Pedestrian_Crossing-Human_Control</th>\n",
       "      <th>Pedestrian_Crossing-Physical_Facilities</th>\n",
       "      <th>Light_Conditions</th>\n",
       "      <th>Weather_Conditions</th>\n",
       "      <th>Road_Surface_Conditions</th>\n",
       "      <th>Special_Conditions_at_Site</th>\n",
       "      <th>Carriageway_Hazards</th>\n",
       "      <th>Urban_or_Rural_Area</th>\n",
       "      <th>Did_Police_Officer_Attend_Scene_of_Accident</th>\n",
       "      <th>LSOA_of_Accident_Location</th>\n",
       "    </tr>\n",
       "  </thead>\n",
       "  <tbody>\n",
       "    <tr>\n",
       "      <th>0</th>\n",
       "      <td>201501BS70001</td>\n",
       "      <td>525130.0</td>\n",
       "      <td>180050.0</td>\n",
       "      <td>-0.198465</td>\n",
       "      <td>51.505538</td>\n",
       "      <td>1</td>\n",
       "      <td>3</td>\n",
       "      <td>1</td>\n",
       "      <td>1</td>\n",
       "      <td>12/01/2015</td>\n",
       "      <td>...</td>\n",
       "      <td>0</td>\n",
       "      <td>0</td>\n",
       "      <td>4</td>\n",
       "      <td>1</td>\n",
       "      <td>1</td>\n",
       "      <td>0</td>\n",
       "      <td>0</td>\n",
       "      <td>1</td>\n",
       "      <td>1</td>\n",
       "      <td>E01002825</td>\n",
       "    </tr>\n",
       "    <tr>\n",
       "      <th>1</th>\n",
       "      <td>201501BS70002</td>\n",
       "      <td>526530.0</td>\n",
       "      <td>178560.0</td>\n",
       "      <td>-0.178838</td>\n",
       "      <td>51.491836</td>\n",
       "      <td>1</td>\n",
       "      <td>3</td>\n",
       "      <td>1</td>\n",
       "      <td>1</td>\n",
       "      <td>12/01/2015</td>\n",
       "      <td>...</td>\n",
       "      <td>0</td>\n",
       "      <td>0</td>\n",
       "      <td>1</td>\n",
       "      <td>1</td>\n",
       "      <td>1</td>\n",
       "      <td>0</td>\n",
       "      <td>0</td>\n",
       "      <td>1</td>\n",
       "      <td>1</td>\n",
       "      <td>E01002820</td>\n",
       "    </tr>\n",
       "    <tr>\n",
       "      <th>2</th>\n",
       "      <td>201501BS70004</td>\n",
       "      <td>524610.0</td>\n",
       "      <td>181080.0</td>\n",
       "      <td>-0.205590</td>\n",
       "      <td>51.514910</td>\n",
       "      <td>1</td>\n",
       "      <td>3</td>\n",
       "      <td>1</td>\n",
       "      <td>1</td>\n",
       "      <td>12/01/2015</td>\n",
       "      <td>...</td>\n",
       "      <td>0</td>\n",
       "      <td>1</td>\n",
       "      <td>4</td>\n",
       "      <td>2</td>\n",
       "      <td>2</td>\n",
       "      <td>0</td>\n",
       "      <td>0</td>\n",
       "      <td>1</td>\n",
       "      <td>1</td>\n",
       "      <td>E01002833</td>\n",
       "    </tr>\n",
       "    <tr>\n",
       "      <th>3</th>\n",
       "      <td>201501BS70005</td>\n",
       "      <td>524420.0</td>\n",
       "      <td>181080.0</td>\n",
       "      <td>-0.208327</td>\n",
       "      <td>51.514952</td>\n",
       "      <td>1</td>\n",
       "      <td>3</td>\n",
       "      <td>1</td>\n",
       "      <td>1</td>\n",
       "      <td>13/01/2015</td>\n",
       "      <td>...</td>\n",
       "      <td>0</td>\n",
       "      <td>0</td>\n",
       "      <td>1</td>\n",
       "      <td>1</td>\n",
       "      <td>2</td>\n",
       "      <td>0</td>\n",
       "      <td>0</td>\n",
       "      <td>1</td>\n",
       "      <td>2</td>\n",
       "      <td>E01002874</td>\n",
       "    </tr>\n",
       "    <tr>\n",
       "      <th>4</th>\n",
       "      <td>201501BS70008</td>\n",
       "      <td>524630.0</td>\n",
       "      <td>179040.0</td>\n",
       "      <td>-0.206022</td>\n",
       "      <td>51.496572</td>\n",
       "      <td>1</td>\n",
       "      <td>2</td>\n",
       "      <td>2</td>\n",
       "      <td>1</td>\n",
       "      <td>09/01/2015</td>\n",
       "      <td>...</td>\n",
       "      <td>0</td>\n",
       "      <td>5</td>\n",
       "      <td>1</td>\n",
       "      <td>2</td>\n",
       "      <td>2</td>\n",
       "      <td>0</td>\n",
       "      <td>0</td>\n",
       "      <td>1</td>\n",
       "      <td>2</td>\n",
       "      <td>E01002814</td>\n",
       "    </tr>\n",
       "  </tbody>\n",
       "</table>\n",
       "<p>5 rows × 32 columns</p>\n",
       "</div>"
      ],
      "text/plain": [
       "  Accident_Index  Location_Easting_OSGR  Location_Northing_OSGR  Longitude  \\\n",
       "0  201501BS70001               525130.0                180050.0  -0.198465   \n",
       "1  201501BS70002               526530.0                178560.0  -0.178838   \n",
       "2  201501BS70004               524610.0                181080.0  -0.205590   \n",
       "3  201501BS70005               524420.0                181080.0  -0.208327   \n",
       "4  201501BS70008               524630.0                179040.0  -0.206022   \n",
       "\n",
       "    Latitude  Police_Force  Accident_Severity  Number_of_Vehicles  \\\n",
       "0  51.505538             1                  3                   1   \n",
       "1  51.491836             1                  3                   1   \n",
       "2  51.514910             1                  3                   1   \n",
       "3  51.514952             1                  3                   1   \n",
       "4  51.496572             1                  2                   2   \n",
       "\n",
       "   Number_of_Casualties        Date  ...  Pedestrian_Crossing-Human_Control  \\\n",
       "0                     1  12/01/2015  ...                                  0   \n",
       "1                     1  12/01/2015  ...                                  0   \n",
       "2                     1  12/01/2015  ...                                  0   \n",
       "3                     1  13/01/2015  ...                                  0   \n",
       "4                     1  09/01/2015  ...                                  0   \n",
       "\n",
       "  Pedestrian_Crossing-Physical_Facilities  Light_Conditions  \\\n",
       "0                                       0                 4   \n",
       "1                                       0                 1   \n",
       "2                                       1                 4   \n",
       "3                                       0                 1   \n",
       "4                                       5                 1   \n",
       "\n",
       "  Weather_Conditions  Road_Surface_Conditions  Special_Conditions_at_Site  \\\n",
       "0                  1                        1                           0   \n",
       "1                  1                        1                           0   \n",
       "2                  2                        2                           0   \n",
       "3                  1                        2                           0   \n",
       "4                  2                        2                           0   \n",
       "\n",
       "   Carriageway_Hazards  Urban_or_Rural_Area  \\\n",
       "0                    0                    1   \n",
       "1                    0                    1   \n",
       "2                    0                    1   \n",
       "3                    0                    1   \n",
       "4                    0                    1   \n",
       "\n",
       "   Did_Police_Officer_Attend_Scene_of_Accident  LSOA_of_Accident_Location  \n",
       "0                                            1                  E01002825  \n",
       "1                                            1                  E01002820  \n",
       "2                                            1                  E01002833  \n",
       "3                                            2                  E01002874  \n",
       "4                                            2                  E01002814  \n",
       "\n",
       "[5 rows x 32 columns]"
      ]
     },
     "execution_count": 2,
     "metadata": {},
     "output_type": "execute_result"
    }
   ],
   "source": [
    "accidents = pd.concat([pd.read_csv(f, compression='zip', \n",
    "                                   low_memory=False) for f in glob.glob('data/*Accidents*.zip')])\n",
    "\n",
    "print('Records:', accidents.shape[0], '\\nColumns:', accidents.shape[1])\n",
    "\n",
    "accidents.head()"
   ]
  },
  {
   "cell_type": "markdown",
   "metadata": {},
   "source": [
    "***Handling Missing Values***"
   ]
  },
  {
   "cell_type": "code",
   "execution_count": 4,
   "metadata": {},
   "outputs": [
    {
     "name": "stdout",
     "output_type": "stream",
     "text": [
      "Proportion of Missing Values in Accidents Table: 0.063 %\n"
     ]
    }
   ],
   "source": [
    "print('Proportion of Missing Values in Accidents Table:', \n",
    "      round(accidents.isna().sum().sum()/len(accidents),3), '%')"
   ]
  },
  {
   "cell_type": "code",
   "execution_count": 5,
   "metadata": {},
   "outputs": [],
   "source": [
    "accidents = accidents.dropna()"
   ]
  },
  {
   "cell_type": "code",
   "execution_count": 6,
   "metadata": {},
   "outputs": [
    {
     "name": "stdout",
     "output_type": "stream",
     "text": [
      "Proportion of Missing Values in Accidents Table AFTER cleaning: 0.0 %\n"
     ]
    }
   ],
   "source": [
    "print('Proportion of Missing Values in Accidents Table AFTER cleaning:', \n",
    "      round(accidents.isna().sum().sum()/len(accidents),3), '%')"
   ]
  },
  {
   "cell_type": "markdown",
   "metadata": {},
   "source": [
    "***Feature of Interest: Accident Severity***"
   ]
  },
  {
   "cell_type": "markdown",
   "metadata": {},
   "source": [
    "We just learned that we have 3 types of accidents: fatal accidents (stored with a `1`), serious accidents (`2`), and slight accidents (`3`). Let's quickly check how many of each we face here:"
   ]
  },
  {
   "cell_type": "code",
   "execution_count": 7,
   "metadata": {},
   "outputs": [
    {
     "data": {
      "text/plain": [
       "3    543467\n",
       "2     97251\n",
       "1      7437\n",
       "Name: Accident_Severity, dtype: int64"
      ]
     },
     "execution_count": 7,
     "metadata": {},
     "output_type": "execute_result"
    }
   ],
   "source": [
    "accidents.Accident_Severity.value_counts()"
   ]
  },
  {
   "cell_type": "markdown",
   "metadata": {},
   "source": [
    "***A. Donut Chart WITHOUT an \"Explosion\"***"
   ]
  },
  {
   "cell_type": "markdown",
   "metadata": {},
   "source": [
    "We first use the output of `.value_counts()` to assign our data:"
   ]
  },
  {
   "cell_type": "code",
   "execution_count": 8,
   "metadata": {},
   "outputs": [],
   "source": [
    "fatal   = accidents.Accident_Severity.value_counts()[1]\n",
    "serious = accidents.Accident_Severity.value_counts()[2]\n",
    "slight  = accidents.Accident_Severity.value_counts()[3]"
   ]
  },
  {
   "cell_type": "markdown",
   "metadata": {},
   "source": [
    "Next, we need to define the labels' names and the labels' sizes with the variables we just created:"
   ]
  },
  {
   "cell_type": "code",
   "execution_count": 9,
   "metadata": {},
   "outputs": [],
   "source": [
    "names = ['Fatal Accidents', 'Serious Accidents', 'Slight Accidents']\n",
    "size  = [fatal, serious, slight]"
   ]
  },
  {
   "cell_type": "markdown",
   "metadata": {},
   "source": [
    "We create the pie chart with `plt.pie()` specifying several keywords:\n",
    "- `x`: The size of the categories.\n",
    "- `labels`: The names of the categories.\n",
    "- `colors`: The colors of the categories.\n",
    "- `autopct`: A string or function used to label the wedges with their numeric value. The label will be placed inside the wedge. If it is a format string, the label will be `fmt%pct`. \n",
    "- `pctdistance`: The ratio between the center of each pie slice and the start of the text.\n",
    "- `textprops`: Dict of arguments to pass to the text objects.\n",
    "- `wedgeprops`: Dict of arguments passed to the wedge objects making the pie.\n",
    "\n",
    "Then we need to create a circle for the center of the plot with `plt.Circle()` to make the pie look like a donut - and finally put the figure together:"
   ]
  },
  {
   "cell_type": "code",
   "execution_count": 10,
   "metadata": {},
   "outputs": [
    {
     "data": {
      "image/png": "[encoded data removed]",
      "text/plain": [
       "<Figure size 576x576 with 1 Axes>"
      ]
     },
     "metadata": {},
     "output_type": "display_data"
    }
   ],
   "source": [
    "plt.pie(x=size, labels=names, colors=['red', 'darkorange', 'silver'], \n",
    "        autopct='%1.2f%%', pctdistance=0.6, textprops={'fontweight':'bold'},\n",
    "        wedgeprops={'linewidth':7, 'edgecolor':'white'})\n",
    "\n",
    "circle = plt.Circle((0,0), 0.6, color='white')\n",
    "\n",
    "fig = plt.gcf()\n",
    "fig.set_size_inches(8,8)\n",
    "fig.gca().add_artist(circle)\n",
    "\n",
    "plt.title('\\nAccident Severity: Share in % (2013-2017)', fontsize=14, fontweight='bold')\n",
    "plt.show()"
   ]
  },
  {
   "cell_type": "markdown",
   "metadata": {},
   "source": [
    "***B. Donut Chart WITH an \"Explosion\"***"
   ]
  },
  {
   "cell_type": "markdown",
   "metadata": {},
   "source": [
    "The `explode` keyword is a len(x) array which specifies the fraction of the radius with which to offset each wedge. Try different values yourself to experience the differences:"
   ]
  },
  {
   "cell_type": "code",
   "execution_count": 11,
   "metadata": {},
   "outputs": [
    {
     "data": {
      "image/png": "[encoded data removed]",
      "text/plain": [
       "<Figure size 576x576 with 1 Axes>"
      ]
     },
     "metadata": {},
     "output_type": "display_data"
    }
   ],
   "source": [
    "# assign the data\n",
    "fatal   = accidents.Accident_Severity.value_counts()[1]\n",
    "serious = accidents.Accident_Severity.value_counts()[2]\n",
    "slight  = accidents.Accident_Severity.value_counts()[3]\n",
    "\n",
    "names = ['Fatal Accidents','Serious Accidents', 'Slight Accidents']\n",
    "size  = [fatal, serious, slight]\n",
    "\n",
    "# create a pie chart\n",
    "explode = (0.4, 0, 0)\n",
    "\n",
    "plt.pie(x=size, labels=names, colors=['red', 'darkorange', 'silver'], \n",
    "        autopct='%1.2f%%', pctdistance=0.6, textprops=dict(fontweight='bold'),\n",
    "        wedgeprops={'linewidth':7, 'edgecolor':'white'}, explode=explode)\n",
    "\n",
    "# create circle for the center of the plot to make the pie look like a donut\n",
    "my_circle = plt.Circle((0,0), 0.6, color='white')\n",
    "\n",
    "# plot the donut chart\n",
    "fig = plt.gcf()\n",
    "fig.set_size_inches(8,8)\n",
    "fig.gca().add_artist(my_circle)\n",
    "plt.title('\\nAccident Severity: Share in % (2013-2017)', fontsize=14, fontweight='bold')\n",
    "plt.show()"
   ]
  },
  {
   "cell_type": "markdown",
   "metadata": {},
   "source": [
    "## Airbnb Data"
   ]
  },
  {
   "cell_type": "markdown",
   "metadata": {},
   "source": [
    "***Loading the Data***\n",
    "\n",
    "The dataset here is about Airbnb data for Berlin. It's ready to use as I already cleaned it in a [previous analysis](https://github.com/BrittaInData/dsc-5-capstone-project-online-ds-ft-100118/blob/master/02_Notebook_2.ipynb). "
   ]
  },
  {
   "cell_type": "code",
   "execution_count": 26,
   "metadata": {},
   "outputs": [
    {
     "name": "stdout",
     "output_type": "stream",
     "text": [
      "Records: 13509 \n",
      "Columns: 17\n"
     ]
    },
    {
     "data": {
      "text/html": [
       "<div>\n",
       "<style scoped>\n",
       "    .dataframe tbody tr th:only-of-type {\n",
       "        vertical-align: middle;\n",
       "    }\n",
       "\n",
       "    .dataframe tbody tr th {\n",
       "        vertical-align: top;\n",
       "    }\n",
       "\n",
       "    .dataframe thead th {\n",
       "        text-align: right;\n",
       "    }\n",
       "</style>\n",
       "<table border=\"1\" class=\"dataframe\">\n",
       "  <thead>\n",
       "    <tr style=\"text-align: right;\">\n",
       "      <th></th>\n",
       "      <th>listing_id</th>\n",
       "      <th>reviews_per_month</th>\n",
       "      <th>price</th>\n",
       "      <th>cleaning_fee</th>\n",
       "      <th>neighbourhood</th>\n",
       "      <th>latitude</th>\n",
       "      <th>longitude</th>\n",
       "      <th>property_type</th>\n",
       "      <th>accommodates</th>\n",
       "      <th>bathrooms</th>\n",
       "      <th>bedrooms</th>\n",
       "      <th>bed_type</th>\n",
       "      <th>host_is_superhost</th>\n",
       "      <th>modest_occupancy</th>\n",
       "      <th>optimistic_occupancy</th>\n",
       "      <th>modest_income</th>\n",
       "      <th>optimistic_income</th>\n",
       "    </tr>\n",
       "  </thead>\n",
       "  <tbody>\n",
       "    <tr>\n",
       "      <th>0</th>\n",
       "      <td>2015</td>\n",
       "      <td>2.888889</td>\n",
       "      <td>60</td>\n",
       "      <td>30</td>\n",
       "      <td>Mitte</td>\n",
       "      <td>52.534537</td>\n",
       "      <td>13.402557</td>\n",
       "      <td>Guesthouse</td>\n",
       "      <td>3</td>\n",
       "      <td>1.0</td>\n",
       "      <td>1.0</td>\n",
       "      <td>Real Bed</td>\n",
       "      <td>t</td>\n",
       "      <td>24.27</td>\n",
       "      <td>30.33</td>\n",
       "      <td>17474.40</td>\n",
       "      <td>21837.60</td>\n",
       "    </tr>\n",
       "    <tr>\n",
       "      <th>1</th>\n",
       "      <td>2695</td>\n",
       "      <td>2.000000</td>\n",
       "      <td>17</td>\n",
       "      <td>0</td>\n",
       "      <td>Pankow</td>\n",
       "      <td>52.548513</td>\n",
       "      <td>13.404553</td>\n",
       "      <td>Apartment</td>\n",
       "      <td>2</td>\n",
       "      <td>1.0</td>\n",
       "      <td>1.0</td>\n",
       "      <td>Real Bed</td>\n",
       "      <td>f</td>\n",
       "      <td>16.80</td>\n",
       "      <td>21.00</td>\n",
       "      <td>3427.20</td>\n",
       "      <td>4284.00</td>\n",
       "    </tr>\n",
       "    <tr>\n",
       "      <th>2</th>\n",
       "      <td>3309</td>\n",
       "      <td>1.000000</td>\n",
       "      <td>26</td>\n",
       "      <td>30</td>\n",
       "      <td>Tempelhof - Schöneberg</td>\n",
       "      <td>52.498855</td>\n",
       "      <td>13.349065</td>\n",
       "      <td>Apartment</td>\n",
       "      <td>2</td>\n",
       "      <td>1.0</td>\n",
       "      <td>1.0</td>\n",
       "      <td>Pull-out Sofa</td>\n",
       "      <td>f</td>\n",
       "      <td>8.40</td>\n",
       "      <td>10.50</td>\n",
       "      <td>2620.80</td>\n",
       "      <td>3276.00</td>\n",
       "    </tr>\n",
       "    <tr>\n",
       "      <th>3</th>\n",
       "      <td>7071</td>\n",
       "      <td>3.454545</td>\n",
       "      <td>42</td>\n",
       "      <td>0</td>\n",
       "      <td>Pankow</td>\n",
       "      <td>52.543157</td>\n",
       "      <td>13.415091</td>\n",
       "      <td>Apartment</td>\n",
       "      <td>2</td>\n",
       "      <td>1.0</td>\n",
       "      <td>1.0</td>\n",
       "      <td>Real Bed</td>\n",
       "      <td>t</td>\n",
       "      <td>29.02</td>\n",
       "      <td>36.27</td>\n",
       "      <td>14626.08</td>\n",
       "      <td>18280.08</td>\n",
       "    </tr>\n",
       "    <tr>\n",
       "      <th>4</th>\n",
       "      <td>9991</td>\n",
       "      <td>1.000000</td>\n",
       "      <td>180</td>\n",
       "      <td>80</td>\n",
       "      <td>Pankow</td>\n",
       "      <td>52.533031</td>\n",
       "      <td>13.416047</td>\n",
       "      <td>Apartment</td>\n",
       "      <td>7</td>\n",
       "      <td>2.5</td>\n",
       "      <td>4.0</td>\n",
       "      <td>Real Bed</td>\n",
       "      <td>f</td>\n",
       "      <td>8.40</td>\n",
       "      <td>10.50</td>\n",
       "      <td>18144.00</td>\n",
       "      <td>22680.00</td>\n",
       "    </tr>\n",
       "  </tbody>\n",
       "</table>\n",
       "</div>"
      ],
      "text/plain": [
       "   listing_id  reviews_per_month  price  cleaning_fee           neighbourhood  \\\n",
       "0        2015           2.888889     60            30                   Mitte   \n",
       "1        2695           2.000000     17             0                  Pankow   \n",
       "2        3309           1.000000     26            30  Tempelhof - Schöneberg   \n",
       "3        7071           3.454545     42             0                  Pankow   \n",
       "4        9991           1.000000    180            80                  Pankow   \n",
       "\n",
       "    latitude  longitude property_type  accommodates  bathrooms  bedrooms  \\\n",
       "0  52.534537  13.402557    Guesthouse             3        1.0       1.0   \n",
       "1  52.548513  13.404553     Apartment             2        1.0       1.0   \n",
       "2  52.498855  13.349065     Apartment             2        1.0       1.0   \n",
       "3  52.543157  13.415091     Apartment             2        1.0       1.0   \n",
       "4  52.533031  13.416047     Apartment             7        2.5       4.0   \n",
       "\n",
       "        bed_type host_is_superhost  modest_occupancy  optimistic_occupancy  \\\n",
       "0       Real Bed                 t             24.27                 30.33   \n",
       "1       Real Bed                 f             16.80                 21.00   \n",
       "2  Pull-out Sofa                 f              8.40                 10.50   \n",
       "3       Real Bed                 t             29.02                 36.27   \n",
       "4       Real Bed                 f              8.40                 10.50   \n",
       "\n",
       "   modest_income  optimistic_income  \n",
       "0       17474.40           21837.60  \n",
       "1        3427.20            4284.00  \n",
       "2        2620.80            3276.00  \n",
       "3       14626.08           18280.08  \n",
       "4       18144.00           22680.00  "
      ]
     },
     "execution_count": 26,
     "metadata": {},
     "output_type": "execute_result"
    }
   ],
   "source": [
    "airbnb = pd.read_csv('Data/cleaned_airbnb')\n",
    "print('Records:', airbnb.shape[0], '\\nColumns:', airbnb.shape[1])\n",
    "airbnb.head()"
   ]
  },
  {
   "cell_type": "markdown",
   "metadata": {},
   "source": [
    "We have a `listing_id` for every accomodation, have information on its location, it costs, whether or not the host is awarded a *superhost* and some other features.\n",
    "\n",
    "***Feature of Interest: Super Host***\n",
    "\n",
    "We want to know how many of th hosts in Berlin are super hosts. When we check the column, we see that it contains either\n",
    "- a **t** for *true (is a super host)* or \n",
    "- a **f** for *false (is no super host)*. \n",
    "\n",
    "But before we begin, let's quickly check for null values:"
   ]
  },
  {
   "cell_type": "code",
   "execution_count": 27,
   "metadata": {},
   "outputs": [
    {
     "data": {
      "text/plain": [
       "2"
      ]
     },
     "execution_count": 27,
     "metadata": {},
     "output_type": "execute_result"
    }
   ],
   "source": [
    "# check super host column for NaN's\n",
    "airbnb.host_is_superhost.isna().sum()"
   ]
  },
  {
   "cell_type": "code",
   "execution_count": 28,
   "metadata": {},
   "outputs": [
    {
     "data": {
      "text/plain": [
       "0"
      ]
     },
     "execution_count": 28,
     "metadata": {},
     "output_type": "execute_result"
    }
   ],
   "source": [
    "# let's convert these in false\n",
    "airbnb.host_is_superhost.fillna(value='f', inplace=True)\n",
    "airbnb.host_is_superhost.isna().sum()"
   ]
  },
  {
   "cell_type": "markdown",
   "metadata": {},
   "source": [
    "***Donut Chart***\n",
    "\n",
    "We repeat the steps we learned before with different values here and there:"
   ]
  },
  {
   "cell_type": "code",
   "execution_count": 32,
   "metadata": {},
   "outputs": [
    {
     "data": {
      "image/png": "[encoded data removed]",
      "text/plain": [
       "<Figure size 504x504 with 1 Axes>"
      ]
     },
     "metadata": {},
     "output_type": "display_data"
    }
   ],
   "source": [
    "# assign the data\n",
    "super_host    = airbnb.host_is_superhost.value_counts()['t']\n",
    "no_super_host = airbnb.host_is_superhost.value_counts()['f']\n",
    "names = ['Super Hosts','Standard Hosts']\n",
    "size  = [super_host, no_super_host]\n",
    "\n",
    "# create a pie chart\n",
    "plt.pie(size, labels=names, colors=['navy','lightsteelblue'], \n",
    "        autopct='%.2f%%', pctdistance=1.28,\n",
    "        wedgeprops={'linewidth':7, 'edgecolor':'white'})\n",
    "\n",
    "# create circle for the center of the plot to make the pie look like a donut\n",
    "my_circle = plt.Circle((0,0), 0.6, color='white')\n",
    "\n",
    "# plot the donut chart\n",
    "fig = plt.gcf()\n",
    "fig.set_size_inches(7,7)\n",
    "fig.gca().add_artist(my_circle)\n",
    "plt.show()"
   ]
  },
  {
   "cell_type": "markdown",
   "metadata": {},
   "source": [
    "**I hope you enjoyed reading this notebook and learned something! I am always happy to get critical and friendly feedback, or suggestions for improvement - so feel free to reach out**: bb@brittabettendorf.com"
   ]
  }
 ],
 "metadata": {
  "kernelspec": {
   "display_name": "Python 3",
   "language": "python",
   "name": "python3"
  },
  "language_info": {
   "codemirror_mode": {
    "name": "ipython",
    "version": 3
   },
   "file_extension": ".py",
   "mimetype": "text/x-python",
   "name": "python",
   "nbconvert_exporter": "python",
   "pygments_lexer": "ipython3",
   "version": "3.7.0"
  }
 },
 "nbformat": 4,
 "nbformat_minor": 2
}
