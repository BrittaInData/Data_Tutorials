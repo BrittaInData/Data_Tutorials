{
 "cells": [
  {
   "cell_type": "markdown",
   "metadata": {},
   "source": [
    "# Tutorial Geospatial Data"
   ]
  },
  {
   "cell_type": "markdown",
   "metadata": {},
   "source": [
    "## Part #2 Geometries and Spatial Relationships\n",
    "\n",
    "In this chapter you learn how to create a GeoDataFrame. Another aspect of geospatial data is how they relate to each other in space. Thus, you will learn the different spatial relationships, and how to use them in Python to query the data or to perform spatial joins."
   ]
  },
  {
   "cell_type": "markdown",
   "metadata": {},
   "source": [
    "### Construct a GeoDataFrame from a DataFrame\n",
    "\n",
    "You can construct a GeoDataFrame from a DataFrame as long as you have the required pieces in place: a geometry column and the Coordinate Reference System (CRS).\n",
    "\n",
    "To create a geometry column, first build a represenation of the geometry and then use a specific constructor from the geometry module in the Shapely package. **Shapely** is a Python package that provides methods for creating and working with points, lines and polygons."
   ]
  },
  {
   "cell_type": "code",
   "execution_count": 126,
   "metadata": {},
   "outputs": [],
   "source": [
    "# import pandas and matplotlib\n",
    "import pandas as pd\n",
    "import matplotlib.pyplot as plt\n",
    "\n",
    "# import geospatial libraries\n",
    "import geopandas as gpd\n",
    "from shapely.geometry import Point"
   ]
  },
  {
   "cell_type": "markdown",
   "metadata": {},
   "source": [
    "Let's use a new dataset with restaurants in Berlin:"
   ]
  },
  {
   "cell_type": "code",
   "execution_count": 127,
   "metadata": {},
   "outputs": [
    {
     "data": {
      "text/html": [
       "<div>\n",
       "<style scoped>\n",
       "    .dataframe tbody tr th:only-of-type {\n",
       "        vertical-align: middle;\n",
       "    }\n",
       "\n",
       "    .dataframe tbody tr th {\n",
       "        vertical-align: top;\n",
       "    }\n",
       "\n",
       "    .dataframe thead th {\n",
       "        text-align: right;\n",
       "    }\n",
       "</style>\n",
       "<table border=\"1\" class=\"dataframe\">\n",
       "  <thead>\n",
       "    <tr style=\"text-align: right;\">\n",
       "      <th></th>\n",
       "      <th>id</th>\n",
       "      <th>lat</th>\n",
       "      <th>lng</th>\n",
       "      <th>name</th>\n",
       "      <th>subCategory</th>\n",
       "    </tr>\n",
       "  </thead>\n",
       "  <tbody>\n",
       "    <tr>\n",
       "      <th>0</th>\n",
       "      <td>91911</td>\n",
       "      <td>52.517114</td>\n",
       "      <td>13.46176</td>\n",
       "      <td>Casablanca</td>\n",
       "      <td>Falafel Restaurant</td>\n",
       "    </tr>\n",
       "    <tr>\n",
       "      <th>1</th>\n",
       "      <td>91920</td>\n",
       "      <td>52.506012</td>\n",
       "      <td>13.32805</td>\n",
       "      <td>Hotel Savoy Berlin</td>\n",
       "      <td>Hotel</td>\n",
       "    </tr>\n",
       "  </tbody>\n",
       "</table>\n",
       "</div>"
      ],
      "text/plain": [
       "      id        lat       lng                name         subCategory\n",
       "0  91911  52.517114  13.46176          Casablanca  Falafel Restaurant\n",
       "1  91920  52.506012  13.32805  Hotel Savoy Berlin               Hotel"
      ]
     },
     "execution_count": 127,
     "metadata": {},
     "output_type": "execute_result"
    }
   ],
   "source": [
    "restaurants = pd.read_csv('Data/Cleansed_Data/Berlin_Restaurants')\n",
    "restaurants.head(2)"
   ]
  },
  {
   "cell_type": "code",
   "execution_count": 128,
   "metadata": {},
   "outputs": [
    {
     "data": {
      "text/plain": [
       "pandas.core.frame.DataFrame"
      ]
     },
     "execution_count": 128,
     "metadata": {},
     "output_type": "execute_result"
    }
   ],
   "source": [
    "type(restaurants)"
   ]
  },
  {
   "cell_type": "markdown",
   "metadata": {},
   "source": [
    "*(This dataset is sourced from [tour-pedia](http://tour-pedia.org/about/datasets.html).)*"
   ]
  },
  {
   "cell_type": "markdown",
   "metadata": {},
   "source": [
    "***Creating Point Geometry***\n",
    "\n",
    "Next, let's create a Point Geometry Series. <br> The lambda function we apply combines longitude and latitude to create a tuple and then constructs a Point Geometry from the tuple. A different way to create a geometry using `zip` is also provided:"
   ]
  },
  {
   "cell_type": "code",
   "execution_count": 129,
   "metadata": {},
   "outputs": [],
   "source": [
    "# create a point geometry Series: option 1\n",
    "geometry = restaurants.apply(lambda x: Point((x.lng, x.lat)), axis=1)\n",
    "\n",
    "# option 2\n",
    "#geometry = [Point(xy) for xy in zip(restaurants['lng'], restaurants['lat'])]"
   ]
  },
  {
   "cell_type": "markdown",
   "metadata": {},
   "source": [
    "Now that we have our geometry Series, the DataFrame is ready to be used as a GeoDataFrame. \n",
    "\n",
    "***Creating GeoDataFrame***\n",
    "\n",
    "To construct a GeoDataFrame, we use the GeoDataFrame constructor, passing it \n",
    "- the `restaurants` DataFrame, \n",
    "- the `crs` to use and \n",
    "- the `geometry` to use. \n",
    "\n",
    "Here we create an object called `crs` and set it to use the *EPSG:4326* CRS. We specify the geometry Series we just created as the new GeoDataFrame's `geometry` column:"
   ]
  },
  {
   "cell_type": "code",
   "execution_count": 130,
   "metadata": {},
   "outputs": [
    {
     "data": {
      "text/html": [
       "<div>\n",
       "<style scoped>\n",
       "    .dataframe tbody tr th:only-of-type {\n",
       "        vertical-align: middle;\n",
       "    }\n",
       "\n",
       "    .dataframe tbody tr th {\n",
       "        vertical-align: top;\n",
       "    }\n",
       "\n",
       "    .dataframe thead th {\n",
       "        text-align: right;\n",
       "    }\n",
       "</style>\n",
       "<table border=\"1\" class=\"dataframe\">\n",
       "  <thead>\n",
       "    <tr style=\"text-align: right;\">\n",
       "      <th></th>\n",
       "      <th>id</th>\n",
       "      <th>lat</th>\n",
       "      <th>lng</th>\n",
       "      <th>name</th>\n",
       "      <th>subCategory</th>\n",
       "      <th>geometry</th>\n",
       "    </tr>\n",
       "  </thead>\n",
       "  <tbody>\n",
       "    <tr>\n",
       "      <th>0</th>\n",
       "      <td>91911</td>\n",
       "      <td>52.517114</td>\n",
       "      <td>13.46176</td>\n",
       "      <td>Casablanca</td>\n",
       "      <td>Falafel Restaurant</td>\n",
       "      <td>POINT (13.46175956167 52.51711388739101)</td>\n",
       "    </tr>\n",
       "    <tr>\n",
       "      <th>1</th>\n",
       "      <td>91920</td>\n",
       "      <td>52.506012</td>\n",
       "      <td>13.32805</td>\n",
       "      <td>Hotel Savoy Berlin</td>\n",
       "      <td>Hotel</td>\n",
       "      <td>POINT (13.32805032307 52.506011569827)</td>\n",
       "    </tr>\n",
       "  </tbody>\n",
       "</table>\n",
       "</div>"
      ],
      "text/plain": [
       "      id        lat       lng                name         subCategory  \\\n",
       "0  91911  52.517114  13.46176          Casablanca  Falafel Restaurant   \n",
       "1  91920  52.506012  13.32805  Hotel Savoy Berlin               Hotel   \n",
       "\n",
       "                                   geometry  \n",
       "0  POINT (13.46175956167 52.51711388739101)  \n",
       "1    POINT (13.32805032307 52.506011569827)  "
      ]
     },
     "execution_count": 130,
     "metadata": {},
     "output_type": "execute_result"
    }
   ],
   "source": [
    "crs = {'init':'epsg:4326'}\n",
    "restaurants_geodf = gpd.GeoDataFrame(restaurants, crs=crs, geometry=geometry)\n",
    "restaurants_geodf.head(2)"
   ]
  },
  {
   "cell_type": "code",
   "execution_count": 131,
   "metadata": {},
   "outputs": [
    {
     "data": {
      "text/plain": [
       "geopandas.geodataframe.GeoDataFrame"
      ]
     },
     "execution_count": 131,
     "metadata": {},
     "output_type": "execute_result"
    }
   ],
   "source": [
    "type(restaurants_geodf)"
   ]
  },
  {
   "cell_type": "markdown",
   "metadata": {},
   "source": [
    "Comparing both dataframes, we see it's almost identical, only the datatype has changed from a DataFrame to a GeoDataFrame, and the `geometry` column is added.\n",
    "\n",
    "***Converting CRS***\n",
    "\n",
    "Notice that the GeoDataFrame's geometry uses decimal degrees to measure distances from the reference points. Remembering the last tutorial, we can convert the geometry - to measure distance in meters - using the `.to_crs()` method. \n",
    "\n",
    "Let's convert the crs to *EPSG:3857* with the resulting measurements in meters. \n",
    "\n",
    "Note that the original latitude and longitude columns remain in decimal degree units. `.to_crs()` only changes the geometry column."
   ]
  },
  {
   "cell_type": "code",
   "execution_count": 132,
   "metadata": {},
   "outputs": [
    {
     "data": {
      "text/html": [
       "<div>\n",
       "<style scoped>\n",
       "    .dataframe tbody tr th:only-of-type {\n",
       "        vertical-align: middle;\n",
       "    }\n",
       "\n",
       "    .dataframe tbody tr th {\n",
       "        vertical-align: top;\n",
       "    }\n",
       "\n",
       "    .dataframe thead th {\n",
       "        text-align: right;\n",
       "    }\n",
       "</style>\n",
       "<table border=\"1\" class=\"dataframe\">\n",
       "  <thead>\n",
       "    <tr style=\"text-align: right;\">\n",
       "      <th></th>\n",
       "      <th>id</th>\n",
       "      <th>lat</th>\n",
       "      <th>lng</th>\n",
       "      <th>name</th>\n",
       "      <th>subCategory</th>\n",
       "      <th>geometry</th>\n",
       "    </tr>\n",
       "  </thead>\n",
       "  <tbody>\n",
       "    <tr>\n",
       "      <th>10</th>\n",
       "      <td>92052</td>\n",
       "      <td>52.502578</td>\n",
       "      <td>13.416510</td>\n",
       "      <td>KuchenKaiser</td>\n",
       "      <td>German Restaurant</td>\n",
       "      <td>POINT (1493519.066988837 6891513.247496091)</td>\n",
       "    </tr>\n",
       "    <tr>\n",
       "      <th>11</th>\n",
       "      <td>92056</td>\n",
       "      <td>52.477287</td>\n",
       "      <td>13.320738</td>\n",
       "      <td>Straßenbahn</td>\n",
       "      <td>Pub</td>\n",
       "      <td>POINT (1482857.806712955 6886889.374957205)</td>\n",
       "    </tr>\n",
       "    <tr>\n",
       "      <th>12</th>\n",
       "      <td>92060</td>\n",
       "      <td>52.490184</td>\n",
       "      <td>13.353222</td>\n",
       "      <td>Tee Tea Thé</td>\n",
       "      <td>Tea Room</td>\n",
       "      <td>POINT (1486473.873489538 6889246.948290107)</td>\n",
       "    </tr>\n",
       "    <tr>\n",
       "      <th>13</th>\n",
       "      <td>92064</td>\n",
       "      <td>52.498880</td>\n",
       "      <td>13.446037</td>\n",
       "      <td>FABRIK-CAFÉ</td>\n",
       "      <td>Café</td>\n",
       "      <td>POINT (1496805.992027516 6890836.920768892)</td>\n",
       "    </tr>\n",
       "    <tr>\n",
       "      <th>14</th>\n",
       "      <td>92079</td>\n",
       "      <td>52.504206</td>\n",
       "      <td>13.417475</td>\n",
       "      <td>Die Henne</td>\n",
       "      <td>German Restaurant</td>\n",
       "      <td>POINT (1493626.46246758 6891810.82448681)</td>\n",
       "    </tr>\n",
       "    <tr>\n",
       "      <th>15</th>\n",
       "      <td>92083</td>\n",
       "      <td>52.523604</td>\n",
       "      <td>13.306436</td>\n",
       "      <td>Pasticceria e Rosticceria Italiana</td>\n",
       "      <td>Café</td>\n",
       "      <td>POINT (1481265.710321542 6895359.091989944)</td>\n",
       "    </tr>\n",
       "  </tbody>\n",
       "</table>\n",
       "</div>"
      ],
      "text/plain": [
       "       id        lat        lng                                name  \\\n",
       "10  92052  52.502578  13.416510                        KuchenKaiser   \n",
       "11  92056  52.477287  13.320738                         Straßenbahn   \n",
       "12  92060  52.490184  13.353222                         Tee Tea Thé   \n",
       "13  92064  52.498880  13.446037                         FABRIK-CAFÉ   \n",
       "14  92079  52.504206  13.417475                           Die Henne   \n",
       "15  92083  52.523604  13.306436  Pasticceria e Rosticceria Italiana   \n",
       "\n",
       "          subCategory                                     geometry  \n",
       "10  German Restaurant  POINT (1493519.066988837 6891513.247496091)  \n",
       "11                Pub  POINT (1482857.806712955 6886889.374957205)  \n",
       "12           Tea Room  POINT (1486473.873489538 6889246.948290107)  \n",
       "13               Café  POINT (1496805.992027516 6890836.920768892)  \n",
       "14  German Restaurant    POINT (1493626.46246758 6891810.82448681)  \n",
       "15               Café  POINT (1481265.710321542 6895359.091989944)  "
      ]
     },
     "execution_count": 132,
     "metadata": {},
     "output_type": "execute_result"
    }
   ],
   "source": [
    "# convert geometry from decimal degrees to meters\n",
    "restaurants_geodf.geometry = restaurants_geodf.geometry.to_crs(epsg=3857)\n",
    "restaurants_geodf[10:16]"
   ]
  },
  {
   "cell_type": "markdown",
   "metadata": {},
   "source": [
    "Let's extract values of the geometry column using the `.loc` attribute of a dataframe:"
   ]
  },
  {
   "cell_type": "code",
   "execution_count": 133,
   "metadata": {},
   "outputs": [],
   "source": [
    "kuchen_kaiser = restaurants_geodf.loc[10, 'geometry']\n",
    "tee_tea = restaurants_geodf.loc[12, 'geometry']\n",
    "die_henne = restaurants_geodf.loc[14, 'geometry']"
   ]
  },
  {
   "cell_type": "markdown",
   "metadata": {},
   "source": [
    "If we print this value, we can see that it's a Point geometry:"
   ]
  },
  {
   "cell_type": "code",
   "execution_count": 134,
   "metadata": {
    "scrolled": true
   },
   "outputs": [
    {
     "name": "stdout",
     "output_type": "stream",
     "text": [
      "POINT (1493519.066988837 6891513.247496091)\n"
     ]
    }
   ],
   "source": [
    "print(kuchen_kaiser)"
   ]
  },
  {
   "cell_type": "markdown",
   "metadata": {},
   "source": [
    "And when checking the type of this value, we see it's a Shapely Point object:"
   ]
  },
  {
   "cell_type": "code",
   "execution_count": 135,
   "metadata": {},
   "outputs": [
    {
     "data": {
      "text/plain": [
       "shapely.geometry.point.Point"
      ]
     },
     "execution_count": 135,
     "metadata": {},
     "output_type": "execute_result"
    }
   ],
   "source": [
    "type(kuchen_kaiser)"
   ]
  },
  {
   "cell_type": "markdown",
   "metadata": {},
   "source": [
    "The geometry column in a GeoDataFrame thus consists of Shapely objects!"
   ]
  },
  {
   "cell_type": "markdown",
   "metadata": {},
   "source": [
    "But geometries can also created manually. Here we create a Point geometry for the Brandenburg Gate with coordinates 13.377704 (longitude) and 52.516275 (latitude):"
   ]
  },
  {
   "cell_type": "code",
   "execution_count": 136,
   "metadata": {},
   "outputs": [
    {
     "name": "stdout",
     "output_type": "stream",
     "text": [
      "POINT (13.377704 52.516275)\n"
     ]
    }
   ],
   "source": [
    "brandenburg_gate = Point(13.377704, 52.516275)\n",
    "print(brandenburg_gate)"
   ]
  },
  {
   "cell_type": "markdown",
   "metadata": {},
   "source": [
    "### Spatial Methods and Relationships in Shapely\n",
    "\n",
    "Shapely geometries come with spatial built-in **methods**. Before we look at some examples of such methods, let's load again the `berlin_districts` dataset and define alle 12 districts:"
   ]
  },
  {
   "cell_type": "code",
   "execution_count": 138,
   "metadata": {},
   "outputs": [
    {
     "data": {
      "text/plain": [
       "{'init': 'epsg:4326'}"
      ]
     },
     "execution_count": 138,
     "metadata": {},
     "output_type": "execute_result"
    }
   ],
   "source": [
    "berlin_districs = gpd.read_file('Data/Cleansed_Data/Berlin_Districts.shp')\n",
    "berlin_districs.crs"
   ]
  },
  {
   "cell_type": "code",
   "execution_count": 139,
   "metadata": {},
   "outputs": [],
   "source": [
    "reinickendorf = berlin_districs.loc[0, 'geometry']\n",
    "char_wilm = berlin_districs.loc[1, 'geometry']\n",
    "trep_koep = berlin_districs.loc[2, 'geometry']\n",
    "pankow = berlin_districs.loc[3, 'geometry']\n",
    "neukoelln = berlin_districs.loc[4, 'geometry']\n",
    "lichtenberg = berlin_districs.loc[5, 'geometry']\n",
    "marz_heller = berlin_districs.loc[6, 'geometry']\n",
    "spandau = berlin_districs.loc[7, 'geometry']\n",
    "steg_zehl = berlin_districs.loc[8, 'geometry']\n",
    "mitte = berlin_districs.loc[9, 'geometry']\n",
    "fried_kreuz = berlin_districs.loc[10, 'geometry']\n",
    "temp_schoen = berlin_districs.loc[11, 'geometry']"
   ]
  },
  {
   "cell_type": "code",
   "execution_count": 140,
   "metadata": {},
   "outputs": [
    {
     "data": {
      "text/plain": [
       "0.005217527665220497"
      ]
     },
     "execution_count": 140,
     "metadata": {},
     "output_type": "execute_result"
    }
   ],
   "source": [
    "# the area of a polygon geometry\n",
    "mitte.area"
   ]
  },
  {
   "cell_type": "code",
   "execution_count": 141,
   "metadata": {},
   "outputs": [
    {
     "data": {
      "text/plain": [
       "316.36348439708365"
      ]
     },
     "execution_count": 141,
     "metadata": {},
     "output_type": "execute_result"
    }
   ],
   "source": [
    "# the distance method calculates the distance between two geometries\n",
    "die_henne.distance(kuchen_kaiser)"
   ]
  },
  {
   "cell_type": "markdown",
   "metadata": {},
   "source": [
    "*We will see in the next chapter in which units this is expressed!!??**"
   ]
  },
  {
   "cell_type": "markdown",
   "metadata": {},
   "source": [
    "Apart from methods for a single object, Shapely also allows us to explore spatial **relationships** between geometries. In our first example, we quickly put some of our geometries in a GeoSeries and plot that. *(We take this way since Shapely has no method to visualize multiple geometries.)*:"
   ]
  },
  {
   "cell_type": "code",
   "execution_count": 142,
   "metadata": {
    "scrolled": true
   },
   "outputs": [
    {
     "data": {
      "image/png": "[encoded data removed]",
      "text/plain": [
       "<Figure size 720x576 with 1 Axes>"
      ]
     },
     "metadata": {
      "needs_background": "light"
     },
     "output_type": "display_data"
    }
   ],
   "source": [
    "gpd.GeoSeries([mitte, char_wilm, neukoelln, brandenburg_gate]).plot(cmap='YlOrRd', figsize=(10,8));"
   ]
  },
  {
   "cell_type": "markdown",
   "metadata": {},
   "source": [
    "We see that the Brandenburg Gate is located in the Mitte district (in bright yellow). \n",
    "\n",
    "Mitte and Charlottenburg (in dark yellow) are neighbors, while Mitte and Neukölln (in bright red) are not.\n",
    "\n",
    "Now let's try methods that translate what we've just seen into code:"
   ]
  },
  {
   "cell_type": "code",
   "execution_count": 143,
   "metadata": {},
   "outputs": [
    {
     "data": {
      "text/plain": [
       "True"
      ]
     },
     "execution_count": 143,
     "metadata": {},
     "output_type": "execute_result"
    }
   ],
   "source": [
    "# contains-method to check whether Mitte contains the famous landmark\n",
    "mitte.contains(brandenburg_gate)"
   ]
  },
  {
   "cell_type": "code",
   "execution_count": 144,
   "metadata": {},
   "outputs": [
    {
     "data": {
      "text/plain": [
       "False"
      ]
     },
     "execution_count": 144,
     "metadata": {},
     "output_type": "execute_result"
    }
   ],
   "source": [
    "# contains-method to check whether Neukölln contains the famous landmark\n",
    "neukoelln.contains(brandenburg_gate)"
   ]
  },
  {
   "cell_type": "code",
   "execution_count": 145,
   "metadata": {},
   "outputs": [
    {
     "data": {
      "text/plain": [
       "True"
      ]
     },
     "execution_count": 145,
     "metadata": {},
     "output_type": "execute_result"
    }
   ],
   "source": [
    "# now the same with the within-method --> the order changes!\n",
    "brandenburg_gate.within(mitte)"
   ]
  },
  {
   "cell_type": "code",
   "execution_count": 146,
   "metadata": {},
   "outputs": [
    {
     "data": {
      "text/plain": [
       "True"
      ]
     },
     "execution_count": 146,
     "metadata": {},
     "output_type": "execute_result"
    }
   ],
   "source": [
    "# touches-method\n",
    "mitte.touches(char_wilm)"
   ]
  },
  {
   "cell_type": "code",
   "execution_count": 24,
   "metadata": {},
   "outputs": [],
   "source": [
    "#line.intersects(france)"
   ]
  },
  {
   "cell_type": "markdown",
   "metadata": {},
   "source": [
    "### Spatial Relationships in GeoPandas\n",
    "\n",
    "We just learned about certain spatial relationships between two individual geometry objects. The GeoDataFrame yet has similar methods to apply to *all* of its geometries.\n",
    "\n",
    "In the next example, we're checking which restaurants are within the polygon of the Mitte district:"
   ]
  },
  {
   "cell_type": "code",
   "execution_count": 147,
   "metadata": {},
   "outputs": [
    {
     "data": {
      "text/plain": [
       "{'init': 'epsg:3857', 'no_defs': True}"
      ]
     },
     "execution_count": 147,
     "metadata": {},
     "output_type": "execute_result"
    }
   ],
   "source": [
    "restaurants_geodf.crs"
   ]
  },
  {
   "cell_type": "code",
   "execution_count": 148,
   "metadata": {},
   "outputs": [
    {
     "data": {
      "text/plain": [
       "{'init': 'epsg:4326'}"
      ]
     },
     "execution_count": 148,
     "metadata": {},
     "output_type": "execute_result"
    }
   ],
   "source": [
    "berlin_districs.crs"
   ]
  },
  {
   "cell_type": "code",
   "execution_count": 149,
   "metadata": {},
   "outputs": [
    {
     "data": {
      "text/plain": [
       "{'init': 'epsg:4326', 'no_defs': True}"
      ]
     },
     "execution_count": 149,
     "metadata": {},
     "output_type": "execute_result"
    }
   ],
   "source": [
    "# convert geometry from meters to decimal degrees \n",
    "restaurants_geodf.geometry = restaurants_geodf.geometry.to_crs(epsg=4326)\n",
    "restaurants_geodf.crs"
   ]
  },
  {
   "cell_type": "code",
   "execution_count": 150,
   "metadata": {},
   "outputs": [
    {
     "data": {
      "text/plain": [
       "3976     True\n",
       "3977    False\n",
       "3978    False\n",
       "3979    False\n",
       "3980    False\n",
       "dtype: bool"
      ]
     },
     "execution_count": 150,
     "metadata": {},
     "output_type": "execute_result"
    }
   ],
   "source": [
    "restaurants_geodf.within(mitte).tail()"
   ]
  },
  {
   "cell_type": "markdown",
   "metadata": {},
   "source": [
    "The result of this operation is a Boolean Series that can directly be used as a mask to filter the original dataframe:"
   ]
  },
  {
   "cell_type": "code",
   "execution_count": 151,
   "metadata": {},
   "outputs": [
    {
     "data": {
      "text/plain": [
       "477"
      ]
     },
     "execution_count": 151,
     "metadata": {},
     "output_type": "execute_result"
    }
   ],
   "source": [
    "restaurants_geodf[restaurants_geodf.within(mitte)].shape[0]"
   ]
  },
  {
   "cell_type": "markdown",
   "metadata": {},
   "source": [
    "For our dataset, there are 477 restaurants located in Mitte."
   ]
  },
  {
   "cell_type": "code",
   "execution_count": null,
   "metadata": {},
   "outputs": [],
   "source": [
    "#rivers = geopandas.read_file(\"ne_50m_rivers_lake_centerlines.shp\")\n",
    "#rivers.head()"
   ]
  },
  {
   "cell_type": "markdown",
   "metadata": {},
   "source": [
    "Which states does the Rhine flow through? To answer this question, we can check which states cross resp. *intersect* the river.\n",
    "\n",
    "We first extract the Rhine and then create a mask"
   ]
  },
  {
   "cell_type": "code",
   "execution_count": null,
   "metadata": {},
   "outputs": [],
   "source": [
    "#amazon = rivers[rivers['name'] == 'Amazonas'].geometry.squeeze()\n",
    "#mask = countries.intersects(amazon)"
   ]
  },
  {
   "cell_type": "markdown",
   "metadata": {},
   "source": [
    "If we use the mask on the countries dataset, we have the answer"
   ]
  },
  {
   "cell_type": "code",
   "execution_count": null,
   "metadata": {},
   "outputs": [],
   "source": [
    "#countris[mask]"
   ]
  },
  {
   "cell_type": "markdown",
   "metadata": {},
   "source": [
    "contains, within, intersects  the most used ones!, but not the only ones. Browse through shapely documentations. Almost all methods available on indivual geometries has its equivalent method on a GeoDataFrame where it is automatically applied element-wise"
   ]
  },
  {
   "cell_type": "code",
   "execution_count": null,
   "metadata": {},
   "outputs": [],
   "source": []
  },
  {
   "cell_type": "code",
   "execution_count": 98,
   "metadata": {},
   "outputs": [],
   "source": [
    "#soil = gpd.read_file('Data/Raw_Data/BGR__Bodenarten/BGR__Bodenarten.shp')\n",
    "#soil.head()"
   ]
  },
  {
   "cell_type": "code",
   "execution_count": 99,
   "metadata": {},
   "outputs": [],
   "source": [
    "#soil.BODART_GR.value_counts()"
   ]
  },
  {
   "cell_type": "code",
   "execution_count": 100,
   "metadata": {},
   "outputs": [],
   "source": [
    "#soil.plot(column='BODART_GR');"
   ]
  },
  {
   "cell_type": "code",
   "execution_count": 101,
   "metadata": {},
   "outputs": [],
   "source": [
    "#soil.crs"
   ]
  },
  {
   "cell_type": "code",
   "execution_count": 102,
   "metadata": {},
   "outputs": [],
   "source": [
    "# convert geometry from decimal degrees to meters\n",
    "#soil.geometry = soil.geometry.to_crs(epsg=3857)"
   ]
  },
  {
   "cell_type": "code",
   "execution_count": 103,
   "metadata": {},
   "outputs": [],
   "source": [
    "#leg_kwds={'title':'Soil Types in Germany', \n",
    "          #'loc': 'upper left', \n",
    "          #'bbox_to_anchor':(1, 1.03), \n",
    "          #'ncol':2}\n",
    "\n",
    "#soil.plot(column='BODART_GR', cmap='Set1_r', figsize=(10,10), legend=True, legend_kwds=leg_kwds)\n",
    "\n",
    "# remove the axis\n",
    "#plt.axis('off');"
   ]
  },
  {
   "cell_type": "code",
   "execution_count": null,
   "metadata": {},
   "outputs": [],
   "source": []
  },
  {
   "cell_type": "markdown",
   "metadata": {},
   "source": [
    "### Spatial Joins\n",
    "\n",
    "It would be interesting to know for each restaurant in which district it is located in. Unfortunately, the districts' names are in another GeoDataFrame. So we need to combine - or: join - both datasets. Joining on location is called a *spatial join'.\n",
    "\n",
    "To spatially join two GeoDataFrames, GeoPandas provides the `.sjoin()` method. It takes an argument `op` which is short for operation to specify the type of spatial join:\n",
    "\n",
    "```python\n",
    "gpd.sjoin(first_gdf, second_gdf, op = <operation>)\n",
    "```\n",
    "\n",
    "The first_gdf is the GeoDataFrame we want to add information to. The second_gdf is the GeoDataFrame that contains the information we want to add. Finally we specify which spatial operation we want to use. The operation can be one of three types: *intersects*, *contains*, or *within*\n",
    "\n",
    "We use *within* as we want GeoPandas check whether or not rows in the restaurants dataset (left GeoDataFrame) are within the rows of the districts dataset(right GeoDataFrame). Note how the order of the arguments is important here!"
   ]
  },
  {
   "cell_type": "code",
   "execution_count": 152,
   "metadata": {},
   "outputs": [
    {
     "data": {
      "text/plain": [
       "{'init': 'epsg:4326', 'no_defs': True}"
      ]
     },
     "execution_count": 152,
     "metadata": {},
     "output_type": "execute_result"
    }
   ],
   "source": [
    "restaurants_geodf.crs"
   ]
  },
  {
   "cell_type": "code",
   "execution_count": 153,
   "metadata": {},
   "outputs": [
    {
     "data": {
      "text/plain": [
       "{'init': 'epsg:4326'}"
      ]
     },
     "execution_count": 153,
     "metadata": {},
     "output_type": "execute_result"
    }
   ],
   "source": [
    "berlin_districs.crs"
   ]
  },
  {
   "cell_type": "code",
   "execution_count": 154,
   "metadata": {},
   "outputs": [
    {
     "data": {
      "text/html": [
       "<div>\n",
       "<style scoped>\n",
       "    .dataframe tbody tr th:only-of-type {\n",
       "        vertical-align: middle;\n",
       "    }\n",
       "\n",
       "    .dataframe tbody tr th {\n",
       "        vertical-align: top;\n",
       "    }\n",
       "\n",
       "    .dataframe thead th {\n",
       "        text-align: right;\n",
       "    }\n",
       "</style>\n",
       "<table border=\"1\" class=\"dataframe\">\n",
       "  <thead>\n",
       "    <tr style=\"text-align: right;\">\n",
       "      <th></th>\n",
       "      <th>id</th>\n",
       "      <th>lat</th>\n",
       "      <th>lng</th>\n",
       "      <th>name</th>\n",
       "      <th>subCategory</th>\n",
       "      <th>geometry</th>\n",
       "      <th>index_right</th>\n",
       "      <th>OBJECTID</th>\n",
       "      <th>DISTRICT</th>\n",
       "      <th>Shape__Are</th>\n",
       "      <th>Shape__Len</th>\n",
       "      <th>POPULATION</th>\n",
       "    </tr>\n",
       "  </thead>\n",
       "  <tbody>\n",
       "    <tr>\n",
       "      <th>0</th>\n",
       "      <td>91911</td>\n",
       "      <td>52.517114</td>\n",
       "      <td>13.461760</td>\n",
       "      <td>Casablanca</td>\n",
       "      <td>Falafel Restaurant</td>\n",
       "      <td>POINT (13.46175956166999 52.51711388739101)</td>\n",
       "      <td>10</td>\n",
       "      <td>11</td>\n",
       "      <td>Friedrichshain-Kreuzberg</td>\n",
       "      <td>5.496101e+07</td>\n",
       "      <td>53758.825032</td>\n",
       "      <td>285963</td>\n",
       "    </tr>\n",
       "    <tr>\n",
       "      <th>2</th>\n",
       "      <td>91947</td>\n",
       "      <td>52.511193</td>\n",
       "      <td>13.449347</td>\n",
       "      <td>Upstalsboom Hotel</td>\n",
       "      <td>Hotel</td>\n",
       "      <td>POINT (13.44934701919601 52.511193329824)</td>\n",
       "      <td>10</td>\n",
       "      <td>11</td>\n",
       "      <td>Friedrichshain-Kreuzberg</td>\n",
       "      <td>5.496101e+07</td>\n",
       "      <td>53758.825032</td>\n",
       "      <td>285963</td>\n",
       "    </tr>\n",
       "    <tr>\n",
       "      <th>5</th>\n",
       "      <td>92007</td>\n",
       "      <td>52.504890</td>\n",
       "      <td>13.385203</td>\n",
       "      <td>relexa hotel Stuttgarter Hof</td>\n",
       "      <td>Hotel</td>\n",
       "      <td>POINT (13.385203007038 52.50488973443598)</td>\n",
       "      <td>10</td>\n",
       "      <td>11</td>\n",
       "      <td>Friedrichshain-Kreuzberg</td>\n",
       "      <td>5.496101e+07</td>\n",
       "      <td>53758.825032</td>\n",
       "      <td>285963</td>\n",
       "    </tr>\n",
       "  </tbody>\n",
       "</table>\n",
       "</div>"
      ],
      "text/plain": [
       "      id        lat        lng                          name  \\\n",
       "0  91911  52.517114  13.461760                    Casablanca   \n",
       "2  91947  52.511193  13.449347             Upstalsboom Hotel   \n",
       "5  92007  52.504890  13.385203  relexa hotel Stuttgarter Hof   \n",
       "\n",
       "          subCategory                                     geometry  \\\n",
       "0  Falafel Restaurant  POINT (13.46175956166999 52.51711388739101)   \n",
       "2               Hotel    POINT (13.44934701919601 52.511193329824)   \n",
       "5               Hotel    POINT (13.385203007038 52.50488973443598)   \n",
       "\n",
       "   index_right  OBJECTID                  DISTRICT    Shape__Are  \\\n",
       "0           10        11  Friedrichshain-Kreuzberg  5.496101e+07   \n",
       "2           10        11  Friedrichshain-Kreuzberg  5.496101e+07   \n",
       "5           10        11  Friedrichshain-Kreuzberg  5.496101e+07   \n",
       "\n",
       "     Shape__Len  POPULATION  \n",
       "0  53758.825032      285963  \n",
       "2  53758.825032      285963  \n",
       "5  53758.825032      285963  "
      ]
     },
     "execution_count": 154,
     "metadata": {},
     "output_type": "execute_result"
    }
   ],
   "source": [
    "joined = gpd.sjoin(restaurants_geodf, berlin_districs, op = 'within')\n",
    "joined.head(3)"
   ]
  },
  {
   "cell_type": "markdown",
   "metadata": {},
   "source": [
    "And here we've chained several functions to group, count, and sort the joined df to see how many restaurants are within each district:"
   ]
  },
  {
   "cell_type": "code",
   "execution_count": 160,
   "metadata": {},
   "outputs": [
    {
     "data": {
      "text/html": [
       "<div>\n",
       "<style scoped>\n",
       "    .dataframe tbody tr th:only-of-type {\n",
       "        vertical-align: middle;\n",
       "    }\n",
       "\n",
       "    .dataframe tbody tr th {\n",
       "        vertical-align: top;\n",
       "    }\n",
       "\n",
       "    .dataframe thead th {\n",
       "        text-align: right;\n",
       "    }\n",
       "</style>\n",
       "<table border=\"1\" class=\"dataframe\">\n",
       "  <thead>\n",
       "    <tr style=\"text-align: right;\">\n",
       "      <th></th>\n",
       "      <th>name</th>\n",
       "    </tr>\n",
       "    <tr>\n",
       "      <th>DISTRICT</th>\n",
       "      <th></th>\n",
       "    </tr>\n",
       "  </thead>\n",
       "  <tbody>\n",
       "    <tr>\n",
       "      <th>Mitte</th>\n",
       "      <td>477</td>\n",
       "    </tr>\n",
       "    <tr>\n",
       "      <th>Charlottenburg-Wilmersdorf</th>\n",
       "      <td>466</td>\n",
       "    </tr>\n",
       "    <tr>\n",
       "      <th>Pankow</th>\n",
       "      <td>424</td>\n",
       "    </tr>\n",
       "    <tr>\n",
       "      <th>Steglitz-Zehlendorf</th>\n",
       "      <td>388</td>\n",
       "    </tr>\n",
       "    <tr>\n",
       "      <th>Tempelhof-Schöneberg</th>\n",
       "      <td>372</td>\n",
       "    </tr>\n",
       "    <tr>\n",
       "      <th>Treptow-Köpenick</th>\n",
       "      <td>318</td>\n",
       "    </tr>\n",
       "    <tr>\n",
       "      <th>Neukölln</th>\n",
       "      <td>312</td>\n",
       "    </tr>\n",
       "    <tr>\n",
       "      <th>Reinickendorf</th>\n",
       "      <td>284</td>\n",
       "    </tr>\n",
       "    <tr>\n",
       "      <th>Friedrichshain-Kreuzberg</th>\n",
       "      <td>265</td>\n",
       "    </tr>\n",
       "    <tr>\n",
       "      <th>Lichtenberg</th>\n",
       "      <td>263</td>\n",
       "    </tr>\n",
       "    <tr>\n",
       "      <th>Spandau</th>\n",
       "      <td>262</td>\n",
       "    </tr>\n",
       "    <tr>\n",
       "      <th>Marzahn-Hellersdorf</th>\n",
       "      <td>131</td>\n",
       "    </tr>\n",
       "  </tbody>\n",
       "</table>\n",
       "</div>"
      ],
      "text/plain": [
       "                            name\n",
       "DISTRICT                        \n",
       "Mitte                        477\n",
       "Charlottenburg-Wilmersdorf   466\n",
       "Pankow                       424\n",
       "Steglitz-Zehlendorf          388\n",
       "Tempelhof-Schöneberg         372\n",
       "Treptow-Köpenick             318\n",
       "Neukölln                     312\n",
       "Reinickendorf                284\n",
       "Friedrichshain-Kreuzberg     265\n",
       "Lichtenberg                  263\n",
       "Spandau                      262\n",
       "Marzahn-Hellersdorf          131"
      ]
     },
     "execution_count": 160,
     "metadata": {},
     "output_type": "execute_result"
    }
   ],
   "source": [
    "# first subset joined df     # groupby district  # count restaurants per district # sort descending\n",
    "joined[['name', 'DISTRICT']].groupby('DISTRICT').agg('count').sort_values('name', ascending=False)"
   ]
  },
  {
   "cell_type": "code",
   "execution_count": null,
   "metadata": {},
   "outputs": [],
   "source": []
  },
  {
   "cell_type": "markdown",
   "metadata": {},
   "source": [
    "***Wanna more?***\n",
    "\n",
    "- Read the [GeoPandas Docs](http://geopandas.org/index.html)\n",
    "- Read the [Shapely Docs](https://shapely.readthedocs.io/en/stable/manual.html#)\n",
    "- Read this [article](https://medium.com/@shakasom/how-to-convert-latitude-longtitude-columns-in-csv-to-geometry-column-using-python-4219d2106dea) to learn more about????"
   ]
  },
  {
   "cell_type": "code",
   "execution_count": null,
   "metadata": {},
   "outputs": [],
   "source": []
  }
 ],
 "metadata": {
  "kernelspec": {
   "display_name": "Python 3",
   "language": "python",
   "name": "python3"
  },
  "language_info": {
   "codemirror_mode": {
    "name": "ipython",
    "version": 3
   },
   "file_extension": ".py",
   "mimetype": "text/x-python",
   "name": "python",
   "nbconvert_exporter": "python",
   "pygments_lexer": "ipython3",
   "version": "3.7.0"
  }
 },
 "nbformat": 4,
 "nbformat_minor": 2
}
