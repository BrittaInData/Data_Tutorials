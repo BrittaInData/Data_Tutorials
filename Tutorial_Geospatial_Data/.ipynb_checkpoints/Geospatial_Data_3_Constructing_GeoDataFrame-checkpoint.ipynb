{
 "cells": [
  {
   "cell_type": "markdown",
   "metadata": {},
   "source": [
    "# Tutorial Geospatial Data"
   ]
  },
  {
   "cell_type": "markdown",
   "metadata": {},
   "source": [
    "## Part #3 Construct a GeoDataFrame from a DataFrame\n",
    "\n",
    "In this chapter you will learn how to create a GeoDataFrame from a DataFrame."
   ]
  },
  {
   "cell_type": "markdown",
   "metadata": {},
   "source": [
    "### Requirements\n",
    "\n",
    "You can construct a GeoDataFrame from a DataFrame as long as you have the required pieces in place: \n",
    "\n",
    "- a geometry column and \n",
    "- the Coordinate Reference System (CRS).\n",
    "\n",
    "To create a `geometry` column, first build a representation of the geometry and then use a specific constructor from the geometry module in the Shapely package. **Shapely** is a Python package that provides methods for creating and working with points, lines and polygons."
   ]
  },
  {
   "cell_type": "code",
   "execution_count": 1,
   "metadata": {},
   "outputs": [],
   "source": [
    "# import pandas and matplotlib\n",
    "import pandas as pd\n",
    "import matplotlib.pyplot as plt\n",
    "\n",
    "# import geospatial libraries\n",
    "import geopandas as gpd\n",
    "from shapely.geometry import Point"
   ]
  },
  {
   "cell_type": "markdown",
   "metadata": {},
   "source": [
    "Let's use a new dataset with restaurants in Berlin:"
   ]
  },
  {
   "cell_type": "code",
   "execution_count": 2,
   "metadata": {},
   "outputs": [
    {
     "data": {
      "text/html": [
       "<div>\n",
       "<style scoped>\n",
       "    .dataframe tbody tr th:only-of-type {\n",
       "        vertical-align: middle;\n",
       "    }\n",
       "\n",
       "    .dataframe tbody tr th {\n",
       "        vertical-align: top;\n",
       "    }\n",
       "\n",
       "    .dataframe thead th {\n",
       "        text-align: right;\n",
       "    }\n",
       "</style>\n",
       "<table border=\"1\" class=\"dataframe\">\n",
       "  <thead>\n",
       "    <tr style=\"text-align: right;\">\n",
       "      <th></th>\n",
       "      <th>id</th>\n",
       "      <th>lat</th>\n",
       "      <th>lng</th>\n",
       "      <th>name</th>\n",
       "      <th>subCategory</th>\n",
       "    </tr>\n",
       "  </thead>\n",
       "  <tbody>\n",
       "    <tr>\n",
       "      <th>0</th>\n",
       "      <td>91911</td>\n",
       "      <td>52.517114</td>\n",
       "      <td>13.46176</td>\n",
       "      <td>Casablanca</td>\n",
       "      <td>Falafel Restaurant</td>\n",
       "    </tr>\n",
       "    <tr>\n",
       "      <th>1</th>\n",
       "      <td>91920</td>\n",
       "      <td>52.506012</td>\n",
       "      <td>13.32805</td>\n",
       "      <td>Hotel Savoy Berlin</td>\n",
       "      <td>Hotel</td>\n",
       "    </tr>\n",
       "  </tbody>\n",
       "</table>\n",
       "</div>"
      ],
      "text/plain": [
       "      id        lat       lng                name         subCategory\n",
       "0  91911  52.517114  13.46176          Casablanca  Falafel Restaurant\n",
       "1  91920  52.506012  13.32805  Hotel Savoy Berlin               Hotel"
      ]
     },
     "execution_count": 2,
     "metadata": {},
     "output_type": "execute_result"
    }
   ],
   "source": [
    "restaurants = pd.read_csv('Data/Cleansed_Data/Berlin_Restaurants')\n",
    "restaurants.head(2)"
   ]
  },
  {
   "cell_type": "code",
   "execution_count": 3,
   "metadata": {},
   "outputs": [
    {
     "data": {
      "text/plain": [
       "pandas.core.frame.DataFrame"
      ]
     },
     "execution_count": 3,
     "metadata": {},
     "output_type": "execute_result"
    }
   ],
   "source": [
    "type(restaurants)"
   ]
  },
  {
   "cell_type": "markdown",
   "metadata": {},
   "source": [
    "*(This dataset is sourced from [tour-pedia](http://tour-pedia.org/about/datasets.html).)*"
   ]
  },
  {
   "cell_type": "markdown",
   "metadata": {},
   "source": [
    "### Creating a Geometry\n",
    "\n",
    "Next, let's create a Point Geometry Series. \n",
    "\n",
    "The lambda function we apply combines longitude and latitude to create a tuple and then constructs a Point Geometry from the tuple. A different way to create a geometry using `zip` is also provided:"
   ]
  },
  {
   "cell_type": "code",
   "execution_count": 4,
   "metadata": {},
   "outputs": [],
   "source": [
    "# create a point geometry Series: option 1\n",
    "geometry = restaurants.apply(lambda x: Point((x.lng, x.lat)), axis=1)\n",
    "\n",
    "# option 2\n",
    "#geometry = [Point(xy) for xy in zip(restaurants['lng'], restaurants['lat'])]"
   ]
  },
  {
   "cell_type": "markdown",
   "metadata": {},
   "source": [
    "Now that we have our geometry Series, the DataFrame is ready to be used as a GeoDataFrame. \n",
    "\n",
    "### Creating a GeoDataFrame\n",
    "\n",
    "To construct a GeoDataFrame, we use the GeoDataFrame constructor, passing to it \n",
    "- the `restaurants` DataFrame, \n",
    "- the `crs` to use and \n",
    "- the `geometry` to use. \n",
    "\n",
    "Here we create an object called `crs` and set it to use the *EPSG:4326* CRS. We specify the geometry series we just created as the new GeoDataFrame `geometry` column:"
   ]
  },
  {
   "cell_type": "code",
   "execution_count": 5,
   "metadata": {},
   "outputs": [
    {
     "data": {
      "text/html": [
       "<div>\n",
       "<style scoped>\n",
       "    .dataframe tbody tr th:only-of-type {\n",
       "        vertical-align: middle;\n",
       "    }\n",
       "\n",
       "    .dataframe tbody tr th {\n",
       "        vertical-align: top;\n",
       "    }\n",
       "\n",
       "    .dataframe thead th {\n",
       "        text-align: right;\n",
       "    }\n",
       "</style>\n",
       "<table border=\"1\" class=\"dataframe\">\n",
       "  <thead>\n",
       "    <tr style=\"text-align: right;\">\n",
       "      <th></th>\n",
       "      <th>id</th>\n",
       "      <th>lat</th>\n",
       "      <th>lng</th>\n",
       "      <th>name</th>\n",
       "      <th>subCategory</th>\n",
       "      <th>geometry</th>\n",
       "    </tr>\n",
       "  </thead>\n",
       "  <tbody>\n",
       "    <tr>\n",
       "      <th>0</th>\n",
       "      <td>91911</td>\n",
       "      <td>52.517114</td>\n",
       "      <td>13.46176</td>\n",
       "      <td>Casablanca</td>\n",
       "      <td>Falafel Restaurant</td>\n",
       "      <td>POINT (13.46175956167 52.51711388739101)</td>\n",
       "    </tr>\n",
       "    <tr>\n",
       "      <th>1</th>\n",
       "      <td>91920</td>\n",
       "      <td>52.506012</td>\n",
       "      <td>13.32805</td>\n",
       "      <td>Hotel Savoy Berlin</td>\n",
       "      <td>Hotel</td>\n",
       "      <td>POINT (13.32805032307 52.506011569827)</td>\n",
       "    </tr>\n",
       "  </tbody>\n",
       "</table>\n",
       "</div>"
      ],
      "text/plain": [
       "      id        lat       lng                name         subCategory  \\\n",
       "0  91911  52.517114  13.46176          Casablanca  Falafel Restaurant   \n",
       "1  91920  52.506012  13.32805  Hotel Savoy Berlin               Hotel   \n",
       "\n",
       "                                   geometry  \n",
       "0  POINT (13.46175956167 52.51711388739101)  \n",
       "1    POINT (13.32805032307 52.506011569827)  "
      ]
     },
     "execution_count": 5,
     "metadata": {},
     "output_type": "execute_result"
    }
   ],
   "source": [
    "crs = {'init':'epsg:4326'}\n",
    "restaurants_geodf = gpd.GeoDataFrame(restaurants, crs=crs, geometry=geometry)\n",
    "restaurants_geodf.head(2)"
   ]
  },
  {
   "cell_type": "code",
   "execution_count": 6,
   "metadata": {},
   "outputs": [
    {
     "data": {
      "text/plain": [
       "geopandas.geodataframe.GeoDataFrame"
      ]
     },
     "execution_count": 6,
     "metadata": {},
     "output_type": "execute_result"
    }
   ],
   "source": [
    "type(restaurants_geodf)"
   ]
  },
  {
   "cell_type": "markdown",
   "metadata": {},
   "source": [
    "Comparing both dataframes, we see that they are almost identical. The only differences are that the datatype has changed from a DataFrame to a GeoDataFrame, and the `geometry` column has been added.\n",
    "\n",
    "### Converting the CRS\n",
    "\n",
    "Notice that the GeoDataFrame's geometry uses decimal degrees to measure distances from the reference points. Remembering the first tutorial, in order to measure distance in meters we can convert the geometry using the `.to_crs()` method.\n",
    "\n",
    "Let's convert the crs to *EPSG:3857* with the resulting measurements in meters. \n",
    "\n",
    "Note that the original latitude and longitude columns remain in decimal degree units - `.to_crs()` only changes the geometry column."
   ]
  },
  {
   "cell_type": "code",
   "execution_count": 7,
   "metadata": {},
   "outputs": [
    {
     "data": {
      "text/html": [
       "<div>\n",
       "<style scoped>\n",
       "    .dataframe tbody tr th:only-of-type {\n",
       "        vertical-align: middle;\n",
       "    }\n",
       "\n",
       "    .dataframe tbody tr th {\n",
       "        vertical-align: top;\n",
       "    }\n",
       "\n",
       "    .dataframe thead th {\n",
       "        text-align: right;\n",
       "    }\n",
       "</style>\n",
       "<table border=\"1\" class=\"dataframe\">\n",
       "  <thead>\n",
       "    <tr style=\"text-align: right;\">\n",
       "      <th></th>\n",
       "      <th>id</th>\n",
       "      <th>lat</th>\n",
       "      <th>lng</th>\n",
       "      <th>name</th>\n",
       "      <th>subCategory</th>\n",
       "      <th>geometry</th>\n",
       "    </tr>\n",
       "  </thead>\n",
       "  <tbody>\n",
       "    <tr>\n",
       "      <th>10</th>\n",
       "      <td>92052</td>\n",
       "      <td>52.502578</td>\n",
       "      <td>13.416510</td>\n",
       "      <td>KuchenKaiser</td>\n",
       "      <td>German Restaurant</td>\n",
       "      <td>POINT (1493519.066988837 6891513.247496091)</td>\n",
       "    </tr>\n",
       "    <tr>\n",
       "      <th>11</th>\n",
       "      <td>92056</td>\n",
       "      <td>52.477287</td>\n",
       "      <td>13.320738</td>\n",
       "      <td>Straßenbahn</td>\n",
       "      <td>Pub</td>\n",
       "      <td>POINT (1482857.806712955 6886889.374957205)</td>\n",
       "    </tr>\n",
       "    <tr>\n",
       "      <th>12</th>\n",
       "      <td>92060</td>\n",
       "      <td>52.490184</td>\n",
       "      <td>13.353222</td>\n",
       "      <td>Tee Tea Thé</td>\n",
       "      <td>Tea Room</td>\n",
       "      <td>POINT (1486473.873489538 6889246.948290107)</td>\n",
       "    </tr>\n",
       "    <tr>\n",
       "      <th>13</th>\n",
       "      <td>92064</td>\n",
       "      <td>52.498880</td>\n",
       "      <td>13.446037</td>\n",
       "      <td>FABRIK-CAFÉ</td>\n",
       "      <td>Café</td>\n",
       "      <td>POINT (1496805.992027516 6890836.920768892)</td>\n",
       "    </tr>\n",
       "    <tr>\n",
       "      <th>14</th>\n",
       "      <td>92079</td>\n",
       "      <td>52.504206</td>\n",
       "      <td>13.417475</td>\n",
       "      <td>Die Henne</td>\n",
       "      <td>German Restaurant</td>\n",
       "      <td>POINT (1493626.46246758 6891810.82448681)</td>\n",
       "    </tr>\n",
       "    <tr>\n",
       "      <th>15</th>\n",
       "      <td>92083</td>\n",
       "      <td>52.523604</td>\n",
       "      <td>13.306436</td>\n",
       "      <td>Pasticceria e Rosticceria Italiana</td>\n",
       "      <td>Café</td>\n",
       "      <td>POINT (1481265.710321542 6895359.091989944)</td>\n",
       "    </tr>\n",
       "  </tbody>\n",
       "</table>\n",
       "</div>"
      ],
      "text/plain": [
       "       id        lat        lng                                name  \\\n",
       "10  92052  52.502578  13.416510                        KuchenKaiser   \n",
       "11  92056  52.477287  13.320738                         Straßenbahn   \n",
       "12  92060  52.490184  13.353222                         Tee Tea Thé   \n",
       "13  92064  52.498880  13.446037                         FABRIK-CAFÉ   \n",
       "14  92079  52.504206  13.417475                           Die Henne   \n",
       "15  92083  52.523604  13.306436  Pasticceria e Rosticceria Italiana   \n",
       "\n",
       "          subCategory                                     geometry  \n",
       "10  German Restaurant  POINT (1493519.066988837 6891513.247496091)  \n",
       "11                Pub  POINT (1482857.806712955 6886889.374957205)  \n",
       "12           Tea Room  POINT (1486473.873489538 6889246.948290107)  \n",
       "13               Café  POINT (1496805.992027516 6890836.920768892)  \n",
       "14  German Restaurant    POINT (1493626.46246758 6891810.82448681)  \n",
       "15               Café  POINT (1481265.710321542 6895359.091989944)  "
      ]
     },
     "execution_count": 7,
     "metadata": {},
     "output_type": "execute_result"
    }
   ],
   "source": [
    "# convert geometry from decimal degrees to meters\n",
    "restaurants_geodf.geometry = restaurants_geodf.geometry.to_crs(epsg=3857)\n",
    "restaurants_geodf[10:16]"
   ]
  },
  {
   "cell_type": "markdown",
   "metadata": {},
   "source": [
    "### Accessing the Geometry\n",
    "\n",
    "Let's extract the values of the geometry column using the `.loc` attribute of a dataframe:"
   ]
  },
  {
   "cell_type": "code",
   "execution_count": 8,
   "metadata": {},
   "outputs": [],
   "source": [
    "kuchen_kaiser = restaurants_geodf.loc[10, 'geometry']\n",
    "tee_tea = restaurants_geodf.loc[12, 'geometry']\n",
    "die_henne = restaurants_geodf.loc[14, 'geometry']"
   ]
  },
  {
   "cell_type": "markdown",
   "metadata": {},
   "source": [
    "If we print this value, we can see that it's a Point geometry:"
   ]
  },
  {
   "cell_type": "code",
   "execution_count": 9,
   "metadata": {
    "scrolled": true
   },
   "outputs": [
    {
     "name": "stdout",
     "output_type": "stream",
     "text": [
      "POINT (1493519.066988837 6891513.247496091)\n"
     ]
    }
   ],
   "source": [
    "print(kuchen_kaiser)"
   ]
  },
  {
   "cell_type": "markdown",
   "metadata": {},
   "source": [
    "And when checking the type of this value, we see it's a Shapely Point object:"
   ]
  },
  {
   "cell_type": "code",
   "execution_count": 10,
   "metadata": {},
   "outputs": [
    {
     "data": {
      "text/plain": [
       "shapely.geometry.point.Point"
      ]
     },
     "execution_count": 10,
     "metadata": {},
     "output_type": "execute_result"
    }
   ],
   "source": [
    "type(kuchen_kaiser)"
   ]
  },
  {
   "cell_type": "markdown",
   "metadata": {},
   "source": [
    "The geometry column in a GeoDataFrame thus consists of Shapely objects!"
   ]
  },
  {
   "cell_type": "markdown",
   "metadata": {},
   "source": [
    "### Creating a Geometry Manually\n",
    "\n",
    "But geometries can also be created manually. Here we create a Point geometry for the Brandenburg Gate with coordinates 13.377704 (longitude) and 52.516275 (latitude):"
   ]
  },
  {
   "cell_type": "code",
   "execution_count": 30,
   "metadata": {},
   "outputs": [
    {
     "name": "stdout",
     "output_type": "stream",
     "text": [
      "POINT (13.377704 52.516275)\n"
     ]
    }
   ],
   "source": [
    "# Python order: long, lat\n",
    "brandenburg_gate = Point(13.377704, 52.516275)\n",
    "print(brandenburg_gate)"
   ]
  },
  {
   "cell_type": "markdown",
   "metadata": {},
   "source": [
    "Always keep in mind that the longitude is limited to a range of -180° to 180°, while the latitude is limited to a range of -90° to 90°.\n",
    "![](Pics/globe.png)"
   ]
  },
  {
   "cell_type": "markdown",
   "metadata": {},
   "source": [
    "***Wanna read more?***\n",
    "\n",
    "- Read the [GeoPandas Docs](http://geopandas.org/index.html)\n",
    "- Read the [Shapely Docs](https://shapely.readthedocs.io/en/stable/manual.html#)\n",
    "- Read this [article](https://medium.com/@shakasom/how-to-convert-latitude-longtitude-columns-in-csv-to-geometry-column-using-python-4219d2106dea) for how to convert latitude and longitude in a geometry column."
   ]
  }
 ],
 "metadata": {
  "kernelspec": {
   "display_name": "Python 3",
   "language": "python",
   "name": "python3"
  },
  "language_info": {
   "codemirror_mode": {
    "name": "ipython",
    "version": 3
   },
   "file_extension": ".py",
   "mimetype": "text/x-python",
   "name": "python",
   "nbconvert_exporter": "python",
   "pygments_lexer": "ipython3",
   "version": "3.7.0"
  }
 },
 "nbformat": 4,
 "nbformat_minor": 2
}
