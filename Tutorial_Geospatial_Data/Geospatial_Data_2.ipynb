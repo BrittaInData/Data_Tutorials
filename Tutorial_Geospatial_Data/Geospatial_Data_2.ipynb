{
 "cells": [
  {
   "cell_type": "markdown",
   "metadata": {},
   "source": [
    "# Tutorial Geospatial Data"
   ]
  },
  {
   "cell_type": "markdown",
   "metadata": {},
   "source": [
    "## Part #2 Geometries and Spatial Relationships\n",
    "\n",
    "In this chapter you learn how to create a GeoDataFrame. Another aspect of geospatial data is how they relate to each other in space. Thus, you will learn the different spatial relationships, and how to use them in Python to query the data or to perform spatial joins."
   ]
  },
  {
   "cell_type": "markdown",
   "metadata": {},
   "source": [
    "### Construct a GeoDataFrame from a DataFrame\n",
    "\n",
    "You can construct a GeoDataFrame from a DataFrame as long as you have the required pieces in place: a geometry column and the Coordinate Reference System (CRS).\n",
    "\n",
    "To create a geometry column, first build a represenation of the geometry and then use a specific constructor from the geometry module in the Shapely package. **Shapely** is a Python package that provides methods for creating and working with points, lines and polygons."
   ]
  },
  {
   "cell_type": "code",
   "execution_count": 1,
   "metadata": {},
   "outputs": [],
   "source": [
    "# import pandas and matplotlib\n",
    "import pandas as pd\n",
    "import matplotlib.pyplot as plt\n",
    "\n",
    "# import geospatial libraries\n",
    "import geopandas as gpd\n",
    "from shapely.geometry import Point"
   ]
  },
  {
   "cell_type": "markdown",
   "metadata": {},
   "source": [
    "Let's use a new dataset with restaurants in Berlin:"
   ]
  },
  {
   "cell_type": "code",
   "execution_count": 2,
   "metadata": {},
   "outputs": [
    {
     "data": {
      "text/html": [
       "<div>\n",
       "<style scoped>\n",
       "    .dataframe tbody tr th:only-of-type {\n",
       "        vertical-align: middle;\n",
       "    }\n",
       "\n",
       "    .dataframe tbody tr th {\n",
       "        vertical-align: top;\n",
       "    }\n",
       "\n",
       "    .dataframe thead th {\n",
       "        text-align: right;\n",
       "    }\n",
       "</style>\n",
       "<table border=\"1\" class=\"dataframe\">\n",
       "  <thead>\n",
       "    <tr style=\"text-align: right;\">\n",
       "      <th></th>\n",
       "      <th>id</th>\n",
       "      <th>lat</th>\n",
       "      <th>lng</th>\n",
       "      <th>name</th>\n",
       "      <th>subCategory</th>\n",
       "    </tr>\n",
       "  </thead>\n",
       "  <tbody>\n",
       "    <tr>\n",
       "      <th>0</th>\n",
       "      <td>91911</td>\n",
       "      <td>52.517114</td>\n",
       "      <td>13.46176</td>\n",
       "      <td>Casablanca</td>\n",
       "      <td>Falafel Restaurant</td>\n",
       "    </tr>\n",
       "    <tr>\n",
       "      <th>1</th>\n",
       "      <td>91920</td>\n",
       "      <td>52.506012</td>\n",
       "      <td>13.32805</td>\n",
       "      <td>Hotel Savoy Berlin</td>\n",
       "      <td>Hotel</td>\n",
       "    </tr>\n",
       "  </tbody>\n",
       "</table>\n",
       "</div>"
      ],
      "text/plain": [
       "      id        lat       lng                name         subCategory\n",
       "0  91911  52.517114  13.46176          Casablanca  Falafel Restaurant\n",
       "1  91920  52.506012  13.32805  Hotel Savoy Berlin               Hotel"
      ]
     },
     "execution_count": 2,
     "metadata": {},
     "output_type": "execute_result"
    }
   ],
   "source": [
    "restaurants = pd.read_csv('Data/Cleansed_Data/Berlin_Restaurants')\n",
    "restaurants.head(2)"
   ]
  },
  {
   "cell_type": "code",
   "execution_count": 3,
   "metadata": {},
   "outputs": [
    {
     "data": {
      "text/plain": [
       "pandas.core.frame.DataFrame"
      ]
     },
     "execution_count": 3,
     "metadata": {},
     "output_type": "execute_result"
    }
   ],
   "source": [
    "type(restaurants)"
   ]
  },
  {
   "cell_type": "markdown",
   "metadata": {},
   "source": [
    "*(This dataset is sourced from [tour-pedia](http://tour-pedia.org/about/datasets.html).)*"
   ]
  },
  {
   "cell_type": "markdown",
   "metadata": {},
   "source": [
    "***Creating a Geometry***\n",
    "\n",
    "Next, let's create a Point Geometry Series. <br> The lambda function we apply combines longitude and latitude to create a tuple and then constructs a Point Geometry from the tuple. A different way to create a geometry using `zip` is also provided:"
   ]
  },
  {
   "cell_type": "code",
   "execution_count": 4,
   "metadata": {},
   "outputs": [],
   "source": [
    "# create a point geometry Series: option 1\n",
    "geometry = restaurants.apply(lambda x: Point((x.lng, x.lat)), axis=1)\n",
    "\n",
    "# option 2\n",
    "#geometry = [Point(xy) for xy in zip(restaurants['lng'], restaurants['lat'])]"
   ]
  },
  {
   "cell_type": "markdown",
   "metadata": {},
   "source": [
    "Now that we have our geometry Series, the DataFrame is ready to be used as a GeoDataFrame. \n",
    "\n",
    "***Creating a GeoDataFrame***\n",
    "\n",
    "To construct a GeoDataFrame, we use the GeoDataFrame constructor, passing it \n",
    "- the `restaurants` DataFrame, \n",
    "- the `crs` to use and \n",
    "- the `geometry` to use. \n",
    "\n",
    "Here we create an object called `crs` and set it to use the *EPSG:4326* CRS. We specify the geometry Series we just created as the new GeoDataFrame's `geometry` column:"
   ]
  },
  {
   "cell_type": "code",
   "execution_count": 5,
   "metadata": {},
   "outputs": [
    {
     "data": {
      "text/html": [
       "<div>\n",
       "<style scoped>\n",
       "    .dataframe tbody tr th:only-of-type {\n",
       "        vertical-align: middle;\n",
       "    }\n",
       "\n",
       "    .dataframe tbody tr th {\n",
       "        vertical-align: top;\n",
       "    }\n",
       "\n",
       "    .dataframe thead th {\n",
       "        text-align: right;\n",
       "    }\n",
       "</style>\n",
       "<table border=\"1\" class=\"dataframe\">\n",
       "  <thead>\n",
       "    <tr style=\"text-align: right;\">\n",
       "      <th></th>\n",
       "      <th>id</th>\n",
       "      <th>lat</th>\n",
       "      <th>lng</th>\n",
       "      <th>name</th>\n",
       "      <th>subCategory</th>\n",
       "      <th>geometry</th>\n",
       "    </tr>\n",
       "  </thead>\n",
       "  <tbody>\n",
       "    <tr>\n",
       "      <th>0</th>\n",
       "      <td>91911</td>\n",
       "      <td>52.517114</td>\n",
       "      <td>13.46176</td>\n",
       "      <td>Casablanca</td>\n",
       "      <td>Falafel Restaurant</td>\n",
       "      <td>POINT (13.46175956167 52.51711388739101)</td>\n",
       "    </tr>\n",
       "    <tr>\n",
       "      <th>1</th>\n",
       "      <td>91920</td>\n",
       "      <td>52.506012</td>\n",
       "      <td>13.32805</td>\n",
       "      <td>Hotel Savoy Berlin</td>\n",
       "      <td>Hotel</td>\n",
       "      <td>POINT (13.32805032307 52.506011569827)</td>\n",
       "    </tr>\n",
       "  </tbody>\n",
       "</table>\n",
       "</div>"
      ],
      "text/plain": [
       "      id        lat       lng                name         subCategory  \\\n",
       "0  91911  52.517114  13.46176          Casablanca  Falafel Restaurant   \n",
       "1  91920  52.506012  13.32805  Hotel Savoy Berlin               Hotel   \n",
       "\n",
       "                                   geometry  \n",
       "0  POINT (13.46175956167 52.51711388739101)  \n",
       "1    POINT (13.32805032307 52.506011569827)  "
      ]
     },
     "execution_count": 5,
     "metadata": {},
     "output_type": "execute_result"
    }
   ],
   "source": [
    "crs = {'init':'epsg:4326'}\n",
    "restaurants_geodf = gpd.GeoDataFrame(restaurants, crs=crs, geometry=geometry)\n",
    "restaurants_geodf.head(2)"
   ]
  },
  {
   "cell_type": "code",
   "execution_count": 6,
   "metadata": {},
   "outputs": [
    {
     "data": {
      "text/plain": [
       "geopandas.geodataframe.GeoDataFrame"
      ]
     },
     "execution_count": 6,
     "metadata": {},
     "output_type": "execute_result"
    }
   ],
   "source": [
    "type(restaurants_geodf)"
   ]
  },
  {
   "cell_type": "markdown",
   "metadata": {},
   "source": [
    "Comparing both dataframes, we see it's almost identical, only the datatype has changed from a DataFrame to a GeoDataFrame, and the `geometry` column is added.\n",
    "\n",
    "***Converting the CRS***\n",
    "\n",
    "Notice that the GeoDataFrame's geometry uses decimal degrees to measure distances from the reference points. Remembering the last tutorial, we can convert the geometry - to measure distance in meters - using the `.to_crs()` method. \n",
    "\n",
    "Let's convert the crs to *EPSG:3857* with the resulting measurements in meters. \n",
    "\n",
    "Note that the original latitude and longitude columns remain in decimal degree units. `.to_crs()` only changes the geometry column."
   ]
  },
  {
   "cell_type": "code",
   "execution_count": 7,
   "metadata": {},
   "outputs": [
    {
     "data": {
      "text/html": [
       "<div>\n",
       "<style scoped>\n",
       "    .dataframe tbody tr th:only-of-type {\n",
       "        vertical-align: middle;\n",
       "    }\n",
       "\n",
       "    .dataframe tbody tr th {\n",
       "        vertical-align: top;\n",
       "    }\n",
       "\n",
       "    .dataframe thead th {\n",
       "        text-align: right;\n",
       "    }\n",
       "</style>\n",
       "<table border=\"1\" class=\"dataframe\">\n",
       "  <thead>\n",
       "    <tr style=\"text-align: right;\">\n",
       "      <th></th>\n",
       "      <th>id</th>\n",
       "      <th>lat</th>\n",
       "      <th>lng</th>\n",
       "      <th>name</th>\n",
       "      <th>subCategory</th>\n",
       "      <th>geometry</th>\n",
       "    </tr>\n",
       "  </thead>\n",
       "  <tbody>\n",
       "    <tr>\n",
       "      <th>10</th>\n",
       "      <td>92052</td>\n",
       "      <td>52.502578</td>\n",
       "      <td>13.416510</td>\n",
       "      <td>KuchenKaiser</td>\n",
       "      <td>German Restaurant</td>\n",
       "      <td>POINT (1493519.066988837 6891513.247496091)</td>\n",
       "    </tr>\n",
       "    <tr>\n",
       "      <th>11</th>\n",
       "      <td>92056</td>\n",
       "      <td>52.477287</td>\n",
       "      <td>13.320738</td>\n",
       "      <td>Straßenbahn</td>\n",
       "      <td>Pub</td>\n",
       "      <td>POINT (1482857.806712955 6886889.374957205)</td>\n",
       "    </tr>\n",
       "    <tr>\n",
       "      <th>12</th>\n",
       "      <td>92060</td>\n",
       "      <td>52.490184</td>\n",
       "      <td>13.353222</td>\n",
       "      <td>Tee Tea Thé</td>\n",
       "      <td>Tea Room</td>\n",
       "      <td>POINT (1486473.873489538 6889246.948290107)</td>\n",
       "    </tr>\n",
       "    <tr>\n",
       "      <th>13</th>\n",
       "      <td>92064</td>\n",
       "      <td>52.498880</td>\n",
       "      <td>13.446037</td>\n",
       "      <td>FABRIK-CAFÉ</td>\n",
       "      <td>Café</td>\n",
       "      <td>POINT (1496805.992027516 6890836.920768892)</td>\n",
       "    </tr>\n",
       "    <tr>\n",
       "      <th>14</th>\n",
       "      <td>92079</td>\n",
       "      <td>52.504206</td>\n",
       "      <td>13.417475</td>\n",
       "      <td>Die Henne</td>\n",
       "      <td>German Restaurant</td>\n",
       "      <td>POINT (1493626.46246758 6891810.82448681)</td>\n",
       "    </tr>\n",
       "    <tr>\n",
       "      <th>15</th>\n",
       "      <td>92083</td>\n",
       "      <td>52.523604</td>\n",
       "      <td>13.306436</td>\n",
       "      <td>Pasticceria e Rosticceria Italiana</td>\n",
       "      <td>Café</td>\n",
       "      <td>POINT (1481265.710321542 6895359.091989944)</td>\n",
       "    </tr>\n",
       "  </tbody>\n",
       "</table>\n",
       "</div>"
      ],
      "text/plain": [
       "       id        lat        lng                                name  \\\n",
       "10  92052  52.502578  13.416510                        KuchenKaiser   \n",
       "11  92056  52.477287  13.320738                         Straßenbahn   \n",
       "12  92060  52.490184  13.353222                         Tee Tea Thé   \n",
       "13  92064  52.498880  13.446037                         FABRIK-CAFÉ   \n",
       "14  92079  52.504206  13.417475                           Die Henne   \n",
       "15  92083  52.523604  13.306436  Pasticceria e Rosticceria Italiana   \n",
       "\n",
       "          subCategory                                     geometry  \n",
       "10  German Restaurant  POINT (1493519.066988837 6891513.247496091)  \n",
       "11                Pub  POINT (1482857.806712955 6886889.374957205)  \n",
       "12           Tea Room  POINT (1486473.873489538 6889246.948290107)  \n",
       "13               Café  POINT (1496805.992027516 6890836.920768892)  \n",
       "14  German Restaurant    POINT (1493626.46246758 6891810.82448681)  \n",
       "15               Café  POINT (1481265.710321542 6895359.091989944)  "
      ]
     },
     "execution_count": 7,
     "metadata": {},
     "output_type": "execute_result"
    }
   ],
   "source": [
    "# convert geometry from decimal degrees to meters\n",
    "restaurants_geodf.geometry = restaurants_geodf.geometry.to_crs(epsg=3857)\n",
    "restaurants_geodf[10:16]"
   ]
  },
  {
   "cell_type": "markdown",
   "metadata": {},
   "source": [
    "***Accessing the Geometry***\n",
    "\n",
    "Let's extract values of the geometry column using the `.loc` attribute of a dataframe:"
   ]
  },
  {
   "cell_type": "code",
   "execution_count": 8,
   "metadata": {},
   "outputs": [],
   "source": [
    "kuchen_kaiser = restaurants_geodf.loc[10, 'geometry']\n",
    "tee_tea = restaurants_geodf.loc[12, 'geometry']\n",
    "die_henne = restaurants_geodf.loc[14, 'geometry']"
   ]
  },
  {
   "cell_type": "markdown",
   "metadata": {},
   "source": [
    "If we print this value, we can see that it's a Point geometry:"
   ]
  },
  {
   "cell_type": "code",
   "execution_count": 9,
   "metadata": {
    "scrolled": true
   },
   "outputs": [
    {
     "name": "stdout",
     "output_type": "stream",
     "text": [
      "POINT (1493519.066988837 6891513.247496091)\n"
     ]
    }
   ],
   "source": [
    "print(kuchen_kaiser)"
   ]
  },
  {
   "cell_type": "markdown",
   "metadata": {},
   "source": [
    "And when checking the type of this value, we see it's a Shapely Point object:"
   ]
  },
  {
   "cell_type": "code",
   "execution_count": 10,
   "metadata": {},
   "outputs": [
    {
     "data": {
      "text/plain": [
       "shapely.geometry.point.Point"
      ]
     },
     "execution_count": 10,
     "metadata": {},
     "output_type": "execute_result"
    }
   ],
   "source": [
    "type(kuchen_kaiser)"
   ]
  },
  {
   "cell_type": "markdown",
   "metadata": {},
   "source": [
    "The geometry column in a GeoDataFrame thus consists of Shapely objects!"
   ]
  },
  {
   "cell_type": "markdown",
   "metadata": {},
   "source": [
    "***Creating a Geometry Manually***\n",
    "\n",
    "But geometries can also created manually. Here we create a Point geometry for the Brandenburg Gate with coordinates 13.377704 (longitude) and 52.516275 (latitude):"
   ]
  },
  {
   "cell_type": "code",
   "execution_count": 30,
   "metadata": {},
   "outputs": [
    {
     "name": "stdout",
     "output_type": "stream",
     "text": [
      "POINT (13.377704 52.516275)\n"
     ]
    }
   ],
   "source": [
    "# Python order: long, lat\n",
    "brandenburg_gate = Point(13.377704, 52.516275)\n",
    "print(brandenburg_gate)"
   ]
  },
  {
   "cell_type": "markdown",
   "metadata": {},
   "source": [
    "Always keep in mind that longitude is limited to the range -180 to 180, while latitude is limited to the range -90 to 90.\n",
    "![](Pics/globe.png)"
   ]
  },
  {
   "cell_type": "markdown",
   "metadata": {},
   "source": [
    "### GeoSeries Attributes and Methods\n",
    "\n",
    "Now we'll explore the attributes and methods of a GeoPandas GeoSeries, which you can think of as a geometry column of the GeoDataFrame:"
   ]
  },
  {
   "cell_type": "code",
   "execution_count": 14,
   "metadata": {},
   "outputs": [
    {
     "data": {
      "text/html": [
       "<div>\n",
       "<style scoped>\n",
       "    .dataframe tbody tr th:only-of-type {\n",
       "        vertical-align: middle;\n",
       "    }\n",
       "\n",
       "    .dataframe tbody tr th {\n",
       "        vertical-align: top;\n",
       "    }\n",
       "\n",
       "    .dataframe thead th {\n",
       "        text-align: right;\n",
       "    }\n",
       "</style>\n",
       "<table border=\"1\" class=\"dataframe\">\n",
       "  <thead>\n",
       "    <tr style=\"text-align: right;\">\n",
       "      <th></th>\n",
       "      <th>OBJECTID</th>\n",
       "      <th>DISTRICT</th>\n",
       "      <th>Shape__Are</th>\n",
       "      <th>Shape__Len</th>\n",
       "      <th>POPULATION</th>\n",
       "      <th>geometry</th>\n",
       "    </tr>\n",
       "  </thead>\n",
       "  <tbody>\n",
       "    <tr>\n",
       "      <th>0</th>\n",
       "      <td>1</td>\n",
       "      <td>Reinickendorf</td>\n",
       "      <td>2.416586e+08</td>\n",
       "      <td>85589.289316</td>\n",
       "      <td>263920</td>\n",
       "      <td>POLYGON ((13.3207443281765 52.6265990635925, 1...</td>\n",
       "    </tr>\n",
       "    <tr>\n",
       "      <th>1</th>\n",
       "      <td>2</td>\n",
       "      <td>Charlottenburg-Wilmersdorf</td>\n",
       "      <td>1.742738e+08</td>\n",
       "      <td>71785.131858</td>\n",
       "      <td>338923</td>\n",
       "      <td>POLYGON ((13.3211096415616 52.5244629906886, 1...</td>\n",
       "    </tr>\n",
       "  </tbody>\n",
       "</table>\n",
       "</div>"
      ],
      "text/plain": [
       "   OBJECTID                    DISTRICT    Shape__Are    Shape__Len  \\\n",
       "0         1               Reinickendorf  2.416586e+08  85589.289316   \n",
       "1         2  Charlottenburg-Wilmersdorf  1.742738e+08  71785.131858   \n",
       "\n",
       "   POPULATION                                           geometry  \n",
       "0      263920  POLYGON ((13.3207443281765 52.6265990635925, 1...  \n",
       "1      338923  POLYGON ((13.3211096415616 52.5244629906886, 1...  "
      ]
     },
     "execution_count": 14,
     "metadata": {},
     "output_type": "execute_result"
    }
   ],
   "source": [
    "berlin_districs = gpd.read_file('Data/Cleansed_Data/Berlin_Districts.shp')\n",
    "berlin_districs.head(2)"
   ]
  },
  {
   "cell_type": "code",
   "execution_count": 15,
   "metadata": {},
   "outputs": [
    {
     "data": {
      "text/plain": [
       "geopandas.geoseries.GeoSeries"
      ]
     },
     "execution_count": 15,
     "metadata": {},
     "output_type": "execute_result"
    }
   ],
   "source": [
    "type(berlin_districs.geometry)"
   ]
  },
  {
   "cell_type": "markdown",
   "metadata": {},
   "source": [
    "GeoPandas inherits a number of useful methods and attributes from the Shapely package. The **area attribute** for example returns the calculated area of a geometry:"
   ]
  },
  {
   "cell_type": "code",
   "execution_count": 16,
   "metadata": {},
   "outputs": [
    {
     "data": {
      "text/plain": [
       "0     0.011846\n",
       "1     0.008561\n",
       "2     0.022161\n",
       "3     0.013689\n",
       "4     0.005938\n",
       "5     0.006902\n",
       "6     0.008184\n",
       "7     0.012165\n",
       "8     0.013552\n",
       "9     0.005218\n",
       "10    0.002700\n",
       "11    0.007011\n",
       "dtype: float64"
      ]
     },
     "execution_count": 16,
     "metadata": {},
     "output_type": "execute_result"
    }
   ],
   "source": [
    "berlin_districs.geometry.area"
   ]
  },
  {
   "cell_type": "markdown",
   "metadata": {},
   "source": [
    "Let's print the sorted areas:"
   ]
  },
  {
   "cell_type": "code",
   "execution_count": 23,
   "metadata": {},
   "outputs": [
    {
     "name": "stdout",
     "output_type": "stream",
     "text": [
      "2     0.022161\n",
      "3     0.013689\n",
      "8     0.013552\n",
      "7     0.012165\n",
      "0     0.011846\n",
      "1     0.008561\n",
      "6     0.008184\n",
      "11    0.007011\n",
      "5     0.006902\n",
      "4     0.005938\n",
      "9     0.005218\n",
      "10    0.002700\n",
      "dtype: float64\n",
      "{'init': 'epsg:4326'}\n"
     ]
    }
   ],
   "source": [
    "# calculate area of each district\n",
    "district_area = berlin_districs.geometry.area\n",
    "\n",
    "# print the areas and crs used\n",
    "print(district_area.sort_values(ascending=False))\n",
    "print(berlin_districs.crs)"
   ]
  },
  {
   "cell_type": "markdown",
   "metadata": {},
   "source": [
    "The third row (with index 2) is the largest district. Recall that the distance unit for a geometry is dependent on its *Coordinate Reference System (CRS)*. The CRS for the Berlin districts data is *epsg 4326* which uses decimal degrees for distance. So the area units here are decimal degrees squared.\n",
    "\n",
    "Let's find the area in a way that's a little more comprehensible to us: kilometers squared. We can change the CRS to one that uses meters for distance: *epsg 3857* using `.to_crs()` and then convert meters^2 to kilometers^2:"
   ]
  },
  {
   "cell_type": "code",
   "execution_count": 25,
   "metadata": {},
   "outputs": [
    {
     "name": "stdout",
     "output_type": "stream",
     "text": [
      "2     450.397219\n",
      "3     279.266143\n",
      "8     275.457357\n",
      "7     247.776994\n",
      "0     241.658604\n",
      "1     174.273771\n",
      "6     166.680203\n",
      "11    142.522777\n",
      "5     140.619878\n",
      "4     120.712189\n",
      "9     106.288207\n",
      "10     54.961010\n",
      "dtype: float64\n",
      "{'init': 'epsg:3857', 'no_defs': True}\n"
     ]
    }
   ],
   "source": [
    "# create a copy of berlin_districts that uses EPSG:3857\n",
    "berlin_districts_3857 = berlin_districs.to_crs(epsg=3857)\n",
    "\n",
    "# define a variable for m^2 to km^2\n",
    "sqm_to_sqkm = 10**6\n",
    "\n",
    "# get area in kilometers squared\n",
    "district_area_km = berlin_districts_3857.geometry.area / sqm_to_sqkm\n",
    "print(district_area_km.sort_values(ascending=False))\n",
    "print(berlin_districts_3857.crs)"
   ]
  },
  {
   "cell_type": "markdown",
   "metadata": {},
   "source": [
    "The **centroid method** returns the point at the center of each geometry in a GeoSeries:"
   ]
  },
  {
   "cell_type": "code",
   "execution_count": 27,
   "metadata": {},
   "outputs": [
    {
     "name": "stdout",
     "output_type": "stream",
     "text": [
      "POINT (13.29133831905174 52.59568176222349)\n"
     ]
    }
   ],
   "source": [
    "# centroid of first polygon\n",
    "print(berlin_districs.geometry.centroid[0])"
   ]
  },
  {
   "cell_type": "markdown",
   "metadata": {},
   "source": [
    "... which could also be stored in a new column:"
   ]
  },
  {
   "cell_type": "code",
   "execution_count": 33,
   "metadata": {},
   "outputs": [
    {
     "data": {
      "text/html": [
       "<div>\n",
       "<style scoped>\n",
       "    .dataframe tbody tr th:only-of-type {\n",
       "        vertical-align: middle;\n",
       "    }\n",
       "\n",
       "    .dataframe tbody tr th {\n",
       "        vertical-align: top;\n",
       "    }\n",
       "\n",
       "    .dataframe thead th {\n",
       "        text-align: right;\n",
       "    }\n",
       "</style>\n",
       "<table border=\"1\" class=\"dataframe\">\n",
       "  <thead>\n",
       "    <tr style=\"text-align: right;\">\n",
       "      <th></th>\n",
       "      <th>OBJECTID</th>\n",
       "      <th>DISTRICT</th>\n",
       "      <th>Shape__Are</th>\n",
       "      <th>Shape__Len</th>\n",
       "      <th>POPULATION</th>\n",
       "      <th>geometry</th>\n",
       "      <th>center</th>\n",
       "    </tr>\n",
       "  </thead>\n",
       "  <tbody>\n",
       "    <tr>\n",
       "      <th>0</th>\n",
       "      <td>1</td>\n",
       "      <td>Reinickendorf</td>\n",
       "      <td>2.416586e+08</td>\n",
       "      <td>85589.289316</td>\n",
       "      <td>263920</td>\n",
       "      <td>POLYGON ((13.3207443281765 52.6265990635925, 1...</td>\n",
       "      <td>POINT (13.29133831905174 52.59568176222349)</td>\n",
       "    </tr>\n",
       "    <tr>\n",
       "      <th>1</th>\n",
       "      <td>2</td>\n",
       "      <td>Charlottenburg-Wilmersdorf</td>\n",
       "      <td>1.742738e+08</td>\n",
       "      <td>71785.131858</td>\n",
       "      <td>338923</td>\n",
       "      <td>POLYGON ((13.3211096415616 52.5244629906886, 1...</td>\n",
       "      <td>POINT (13.27023027540493 52.50104015156788)</td>\n",
       "    </tr>\n",
       "    <tr>\n",
       "      <th>2</th>\n",
       "      <td>3</td>\n",
       "      <td>Treptow-Köpenick</td>\n",
       "      <td>4.503972e+08</td>\n",
       "      <td>149810.619914</td>\n",
       "      <td>267167</td>\n",
       "      <td>POLYGON ((13.5792539458089 52.3908302513483, 1...</td>\n",
       "      <td>POINT (13.61121776734134 52.42958541340812)</td>\n",
       "    </tr>\n",
       "    <tr>\n",
       "      <th>3</th>\n",
       "      <td>4</td>\n",
       "      <td>Pankow</td>\n",
       "      <td>2.792661e+08</td>\n",
       "      <td>109210.896203</td>\n",
       "      <td>404534</td>\n",
       "      <td>(POLYGON ((13.5048079665743 52.6195982101068, ...</td>\n",
       "      <td>POINT (13.44024935764394 52.59719210519483)</td>\n",
       "    </tr>\n",
       "    <tr>\n",
       "      <th>4</th>\n",
       "      <td>5</td>\n",
       "      <td>Neukölln</td>\n",
       "      <td>1.207122e+08</td>\n",
       "      <td>66590.293473</td>\n",
       "      <td>329767</td>\n",
       "      <td>POLYGON ((13.4583203518438 52.4856882506131, 1...</td>\n",
       "      <td>POINT (13.45496658424389 52.44107869027926)</td>\n",
       "    </tr>\n",
       "    <tr>\n",
       "      <th>5</th>\n",
       "      <td>6</td>\n",
       "      <td>Lichtenberg</td>\n",
       "      <td>1.406199e+08</td>\n",
       "      <td>75961.265817</td>\n",
       "      <td>288320</td>\n",
       "      <td>POLYGON ((13.5231622474414 52.4742418993467, 1...</td>\n",
       "      <td>POINT (13.50976339861569 52.53490863716018)</td>\n",
       "    </tr>\n",
       "    <tr>\n",
       "      <th>6</th>\n",
       "      <td>7</td>\n",
       "      <td>Marzahn-Hellersdorf</td>\n",
       "      <td>1.666802e+08</td>\n",
       "      <td>67457.607608</td>\n",
       "      <td>267452</td>\n",
       "      <td>POLYGON ((13.6131722225913 52.4721329895958, 1...</td>\n",
       "      <td>POINT (13.57883325742723 52.52112030601902)</td>\n",
       "    </tr>\n",
       "    <tr>\n",
       "      <th>7</th>\n",
       "      <td>8</td>\n",
       "      <td>Spandau</td>\n",
       "      <td>2.477770e+08</td>\n",
       "      <td>100052.537728</td>\n",
       "      <td>241905</td>\n",
       "      <td>POLYGON ((13.231191375419 52.5612351042813, 13...</td>\n",
       "      <td>POINT (13.17882220423255 52.52579796277733)</td>\n",
       "    </tr>\n",
       "    <tr>\n",
       "      <th>8</th>\n",
       "      <td>9</td>\n",
       "      <td>Steglitz-Zehlendorf</td>\n",
       "      <td>2.754574e+08</td>\n",
       "      <td>103050.006867</td>\n",
       "      <td>307088</td>\n",
       "      <td>POLYGON ((13.3195245310051 52.4669887925436, 1...</td>\n",
       "      <td>POINT (13.23907579845156 52.43484357326309)</td>\n",
       "    </tr>\n",
       "    <tr>\n",
       "      <th>9</th>\n",
       "      <td>10</td>\n",
       "      <td>Mitte</td>\n",
       "      <td>1.062882e+08</td>\n",
       "      <td>58707.772351</td>\n",
       "      <td>379610</td>\n",
       "      <td>POLYGON ((13.3772116516902 52.5609060360395, 1...</td>\n",
       "      <td>POINT (13.36590121143018 52.53287523413531)</td>\n",
       "    </tr>\n",
       "    <tr>\n",
       "      <th>10</th>\n",
       "      <td>11</td>\n",
       "      <td>Friedrichshain-Kreuzberg</td>\n",
       "      <td>5.496101e+07</td>\n",
       "      <td>53758.825032</td>\n",
       "      <td>285963</td>\n",
       "      <td>POLYGON ((13.4552901439476 52.5212722726344, 1...</td>\n",
       "      <td>POINT (13.42824262906674 52.50381512110913)</td>\n",
       "    </tr>\n",
       "    <tr>\n",
       "      <th>11</th>\n",
       "      <td>12</td>\n",
       "      <td>Tempelhof-Schöneberg</td>\n",
       "      <td>1.425228e+08</td>\n",
       "      <td>75867.096356</td>\n",
       "      <td>349265</td>\n",
       "      <td>POLYGON ((13.3875853139462 52.3867742887886, 1...</td>\n",
       "      <td>POINT (13.3807326977344 52.44112221664047)</td>\n",
       "    </tr>\n",
       "  </tbody>\n",
       "</table>\n",
       "</div>"
      ],
      "text/plain": [
       "    OBJECTID                    DISTRICT    Shape__Are     Shape__Len  \\\n",
       "0          1               Reinickendorf  2.416586e+08   85589.289316   \n",
       "1          2  Charlottenburg-Wilmersdorf  1.742738e+08   71785.131858   \n",
       "2          3            Treptow-Köpenick  4.503972e+08  149810.619914   \n",
       "3          4                      Pankow  2.792661e+08  109210.896203   \n",
       "4          5                    Neukölln  1.207122e+08   66590.293473   \n",
       "5          6                 Lichtenberg  1.406199e+08   75961.265817   \n",
       "6          7         Marzahn-Hellersdorf  1.666802e+08   67457.607608   \n",
       "7          8                     Spandau  2.477770e+08  100052.537728   \n",
       "8          9         Steglitz-Zehlendorf  2.754574e+08  103050.006867   \n",
       "9         10                       Mitte  1.062882e+08   58707.772351   \n",
       "10        11    Friedrichshain-Kreuzberg  5.496101e+07   53758.825032   \n",
       "11        12        Tempelhof-Schöneberg  1.425228e+08   75867.096356   \n",
       "\n",
       "    POPULATION                                           geometry  \\\n",
       "0       263920  POLYGON ((13.3207443281765 52.6265990635925, 1...   \n",
       "1       338923  POLYGON ((13.3211096415616 52.5244629906886, 1...   \n",
       "2       267167  POLYGON ((13.5792539458089 52.3908302513483, 1...   \n",
       "3       404534  (POLYGON ((13.5048079665743 52.6195982101068, ...   \n",
       "4       329767  POLYGON ((13.4583203518438 52.4856882506131, 1...   \n",
       "5       288320  POLYGON ((13.5231622474414 52.4742418993467, 1...   \n",
       "6       267452  POLYGON ((13.6131722225913 52.4721329895958, 1...   \n",
       "7       241905  POLYGON ((13.231191375419 52.5612351042813, 13...   \n",
       "8       307088  POLYGON ((13.3195245310051 52.4669887925436, 1...   \n",
       "9       379610  POLYGON ((13.3772116516902 52.5609060360395, 1...   \n",
       "10      285963  POLYGON ((13.4552901439476 52.5212722726344, 1...   \n",
       "11      349265  POLYGON ((13.3875853139462 52.3867742887886, 1...   \n",
       "\n",
       "                                         center  \n",
       "0   POINT (13.29133831905174 52.59568176222349)  \n",
       "1   POINT (13.27023027540493 52.50104015156788)  \n",
       "2   POINT (13.61121776734134 52.42958541340812)  \n",
       "3   POINT (13.44024935764394 52.59719210519483)  \n",
       "4   POINT (13.45496658424389 52.44107869027926)  \n",
       "5   POINT (13.50976339861569 52.53490863716018)  \n",
       "6   POINT (13.57883325742723 52.52112030601902)  \n",
       "7   POINT (13.17882220423255 52.52579796277733)  \n",
       "8   POINT (13.23907579845156 52.43484357326309)  \n",
       "9   POINT (13.36590121143018 52.53287523413531)  \n",
       "10  POINT (13.42824262906674 52.50381512110913)  \n",
       "11   POINT (13.3807326977344 52.44112221664047)  "
      ]
     },
     "execution_count": 33,
     "metadata": {},
     "output_type": "execute_result"
    }
   ],
   "source": [
    "# create center column from the centroid\n",
    "berlin_districs['center'] = berlin_districs.geometry.centroid\n",
    "\n",
    "berlin_districs.head(2)"
   ]
  },
  {
   "cell_type": "code",
   "execution_count": 65,
   "metadata": {},
   "outputs": [
    {
     "data": {
      "image/png": "[encoded data removed]",
      "text/plain": [
       "<Figure size 1152x1152 with 1 Axes>"
      ]
     },
     "metadata": {
      "needs_background": "light"
     },
     "output_type": "display_data"
    }
   ],
   "source": [
    "# store the centroids in a GeoSeries\n",
    "berlin_centroids = berlin_districs.geometry.centroid\n",
    "\n",
    "# plot districts as ax and add the centroids\n",
    "ax = berlin_districs.plot(color='lightsteelblue', figsize=(16,16))\n",
    "berlin_centers.plot(ax=ax, color='black', markersize=19)\n",
    "\n",
    "# show the plot\n",
    "plt.show()"
   ]
  },
  {
   "cell_type": "markdown",
   "metadata": {},
   "source": [
    "The **distance method** of a GeoSeries finds the minimum distance from the geometry it is called on to a geometry passed in as an argument:"
   ]
  },
  {
   "cell_type": "code",
   "execution_count": 35,
   "metadata": {},
   "outputs": [
    {
     "data": {
      "text/plain": [
       "7055667.0846656505"
      ]
     },
     "execution_count": 35,
     "metadata": {},
     "output_type": "execute_result"
    }
   ],
   "source": [
    "# defining centroid of Mitte\n",
    "centroid_mitte = berlin_districts_3857.geometry.centroid[9]\n",
    "\n",
    "# distance from brandenburg_gate to centroid of Mitte\n",
    "brandenburg_gate.distance(other=centroid_mitte)"
   ]
  },
  {
   "cell_type": "markdown",
   "metadata": {},
   "source": [
    "The distance unit depend on the CRS which is epsg 3857 in our case, i.e. measured in meters."
   ]
  },
  {
   "cell_type": "markdown",
   "metadata": {},
   "source": [
    "### Spatial Relationships within a GeoSeries\n",
    "\n",
    "Shapely also allows us to explore spatial **relationships** between individual geometries.\n",
    "\n",
    "Imagine, we've created polygons for each district in Berlin:"
   ]
  },
  {
   "cell_type": "code",
   "execution_count": 51,
   "metadata": {},
   "outputs": [],
   "source": [
    "reinickendorf = berlin_districs.loc[0, 'geometry']\n",
    "char_wilm = berlin_districs.loc[1, 'geometry']\n",
    "trep_koep = berlin_districs.loc[2, 'geometry']\n",
    "pankow = berlin_districs.loc[3, 'geometry']\n",
    "neukoelln = berlin_districs.loc[4, 'geometry']\n",
    "lichtenberg = berlin_districs.loc[5, 'geometry']\n",
    "marz_heller = berlin_districs.loc[6, 'geometry']\n",
    "spandau = berlin_districs.loc[7, 'geometry']\n",
    "steg_zehl = berlin_districs.loc[8, 'geometry']\n",
    "mitte = berlin_districs.loc[9, 'geometry']\n",
    "fried_kreuz = berlin_districs.loc[10, 'geometry']\n",
    "temp_schoen = berlin_districs.loc[11, 'geometry']"
   ]
  },
  {
   "cell_type": "markdown",
   "metadata": {},
   "source": [
    "Since Shapely has no method to visualize multiple geometries, we quickly put some of our geometries in a GeoSeries and plot that:"
   ]
  },
  {
   "cell_type": "code",
   "execution_count": 52,
   "metadata": {
    "scrolled": true
   },
   "outputs": [
    {
     "data": {
      "image/png": "[encoded data removed]",
      "text/plain": [
       "<Figure size 720x576 with 1 Axes>"
      ]
     },
     "metadata": {
      "needs_background": "light"
     },
     "output_type": "display_data"
    }
   ],
   "source": [
    "gpd.GeoSeries([mitte, char_wilm, neukoelln, brandenburg_gate]).plot(cmap='YlOrRd', figsize=(10,8));"
   ]
  },
  {
   "cell_type": "markdown",
   "metadata": {},
   "source": [
    "- We see that the Brandenburg Gate is located in the Mitte district (in bright yellow). \n",
    "\n",
    "- Mitte (in bright yellow) and Charlottenburg (in dark yellow) are neighbors, while Mitte (in bright yellow) and Neukölln (in bright red) are not.\n",
    "\n",
    "Now let's try methods that translate what we've just seen into code:"
   ]
  },
  {
   "cell_type": "code",
   "execution_count": 53,
   "metadata": {},
   "outputs": [
    {
     "data": {
      "text/plain": [
       "True"
      ]
     },
     "execution_count": 53,
     "metadata": {},
     "output_type": "execute_result"
    }
   ],
   "source": [
    "# contains-method to check whether Mitte contains the famous landmark\n",
    "mitte.contains(brandenburg_gate)"
   ]
  },
  {
   "cell_type": "code",
   "execution_count": 54,
   "metadata": {},
   "outputs": [
    {
     "data": {
      "text/plain": [
       "False"
      ]
     },
     "execution_count": 54,
     "metadata": {},
     "output_type": "execute_result"
    }
   ],
   "source": [
    "# contains-method to check whether Neukölln contains the famous landmark\n",
    "neukoelln.contains(brandenburg_gate)"
   ]
  },
  {
   "cell_type": "code",
   "execution_count": 55,
   "metadata": {},
   "outputs": [
    {
     "data": {
      "text/plain": [
       "True"
      ]
     },
     "execution_count": 55,
     "metadata": {},
     "output_type": "execute_result"
    }
   ],
   "source": [
    "# now the same with the within-method --> the order changes!\n",
    "brandenburg_gate.within(mitte)"
   ]
  },
  {
   "cell_type": "code",
   "execution_count": 56,
   "metadata": {},
   "outputs": [
    {
     "data": {
      "text/plain": [
       "True"
      ]
     },
     "execution_count": 56,
     "metadata": {},
     "output_type": "execute_result"
    }
   ],
   "source": [
    "# touches-method\n",
    "mitte.touches(char_wilm)"
   ]
  },
  {
   "cell_type": "markdown",
   "metadata": {},
   "source": [
    "### Spatial Relationships in GeoPandas\n",
    "\n",
    "We just learned about certain spatial relationships between two individual geometry objects. The GeoDataFrame yet has similar methods to apply to *all* of its geometries.\n",
    "\n",
    "In the next example, we're checking which restaurants are within the polygon of the Mitte district. To perform this operation, we need to make sure both data is using the same Coordinate Reference System (CRS):"
   ]
  },
  {
   "cell_type": "code",
   "execution_count": 59,
   "metadata": {},
   "outputs": [
    {
     "data": {
      "text/plain": [
       "{'init': 'epsg:3857', 'no_defs': True}"
      ]
     },
     "execution_count": 59,
     "metadata": {},
     "output_type": "execute_result"
    }
   ],
   "source": [
    "restaurants_geodf.crs"
   ]
  },
  {
   "cell_type": "code",
   "execution_count": 60,
   "metadata": {},
   "outputs": [
    {
     "data": {
      "text/plain": [
       "{'init': 'epsg:4326'}"
      ]
     },
     "execution_count": 60,
     "metadata": {},
     "output_type": "execute_result"
    }
   ],
   "source": [
    "berlin_districs.crs"
   ]
  },
  {
   "cell_type": "code",
   "execution_count": 61,
   "metadata": {},
   "outputs": [
    {
     "data": {
      "text/plain": [
       "{'init': 'epsg:4326', 'no_defs': True}"
      ]
     },
     "execution_count": 61,
     "metadata": {},
     "output_type": "execute_result"
    }
   ],
   "source": [
    "# convert restaurants geometry to epsg 4326 (from meters to decimal degrees)\n",
    "restaurants_geodf.geometry = restaurants_geodf.geometry.to_crs(epsg=4326)\n",
    "restaurants_geodf.crs"
   ]
  },
  {
   "cell_type": "code",
   "execution_count": 62,
   "metadata": {},
   "outputs": [
    {
     "data": {
      "text/plain": [
       "3976     True\n",
       "3977    False\n",
       "3978    False\n",
       "3979    False\n",
       "3980    False\n",
       "dtype: bool"
      ]
     },
     "execution_count": 62,
     "metadata": {},
     "output_type": "execute_result"
    }
   ],
   "source": [
    "# checking which restaurants are within the polygon of Mitte\n",
    "restaurants_geodf.within(mitte).tail()"
   ]
  },
  {
   "cell_type": "markdown",
   "metadata": {},
   "source": [
    "The result of this operation is a Boolean Series that can directly be used as a mask to filter the original dataframe:"
   ]
  },
  {
   "cell_type": "code",
   "execution_count": 63,
   "metadata": {},
   "outputs": [
    {
     "data": {
      "text/plain": [
       "477"
      ]
     },
     "execution_count": 63,
     "metadata": {},
     "output_type": "execute_result"
    }
   ],
   "source": [
    "mitte_restaurants = restaurants_geodf[restaurants_geodf.within(mitte)]\n",
    "mitte_restaurants.shape[0]"
   ]
  },
  {
   "cell_type": "markdown",
   "metadata": {},
   "source": [
    "For our dataset, there are 477 restaurants located in Mitte."
   ]
  },
  {
   "cell_type": "markdown",
   "metadata": {},
   "source": [
    "### Spatial Joins\n",
    "\n",
    "It would be interesting to know for each restaurant in which district it is located in. Unfortunately, the districts' names are in another GeoDataFrame. So we need to combine - or: join - both datasets. Joining on location is called a *spatial join'.\n",
    "\n",
    "To spatially join two GeoDataFrames, GeoPandas provides the `.sjoin()` method. It takes an argument `op` which is short for operation to specify the type of spatial join:\n",
    "\n",
    "```python\n",
    "gpd.sjoin(first_gdf, second_gdf, op = <operation>)\n",
    "```\n",
    "\n",
    "- The first_gdf is the GeoDataFrame we want to add information to. \n",
    "- The second_gdf is the GeoDataFrame that contains the information we want to add. \n",
    "\n",
    "*Note, that you need to make sure both GeoDataFrames use the same CRS before you join them!*\n",
    "\n",
    "- Finally we specify which spatial operation we want to use. The operation can be one of three types: *intersects*, *contains*, or *within*\n",
    "\n",
    "We use *within* as we want GeoPandas check whether or not rows in the restaurants dataset (left GeoDataFrame) are within the rows of the districts dataset(right GeoDataFrame). Note how the order of the arguments is important here!"
   ]
  },
  {
   "cell_type": "code",
   "execution_count": 152,
   "metadata": {},
   "outputs": [
    {
     "data": {
      "text/plain": [
       "{'init': 'epsg:4326', 'no_defs': True}"
      ]
     },
     "execution_count": 152,
     "metadata": {},
     "output_type": "execute_result"
    }
   ],
   "source": [
    "restaurants_geodf.crs"
   ]
  },
  {
   "cell_type": "code",
   "execution_count": 153,
   "metadata": {},
   "outputs": [
    {
     "data": {
      "text/plain": [
       "{'init': 'epsg:4326'}"
      ]
     },
     "execution_count": 153,
     "metadata": {},
     "output_type": "execute_result"
    }
   ],
   "source": [
    "berlin_districs.crs"
   ]
  },
  {
   "cell_type": "code",
   "execution_count": 154,
   "metadata": {},
   "outputs": [
    {
     "data": {
      "text/html": [
       "<div>\n",
       "<style scoped>\n",
       "    .dataframe tbody tr th:only-of-type {\n",
       "        vertical-align: middle;\n",
       "    }\n",
       "\n",
       "    .dataframe tbody tr th {\n",
       "        vertical-align: top;\n",
       "    }\n",
       "\n",
       "    .dataframe thead th {\n",
       "        text-align: right;\n",
       "    }\n",
       "</style>\n",
       "<table border=\"1\" class=\"dataframe\">\n",
       "  <thead>\n",
       "    <tr style=\"text-align: right;\">\n",
       "      <th></th>\n",
       "      <th>id</th>\n",
       "      <th>lat</th>\n",
       "      <th>lng</th>\n",
       "      <th>name</th>\n",
       "      <th>subCategory</th>\n",
       "      <th>geometry</th>\n",
       "      <th>index_right</th>\n",
       "      <th>OBJECTID</th>\n",
       "      <th>DISTRICT</th>\n",
       "      <th>Shape__Are</th>\n",
       "      <th>Shape__Len</th>\n",
       "      <th>POPULATION</th>\n",
       "    </tr>\n",
       "  </thead>\n",
       "  <tbody>\n",
       "    <tr>\n",
       "      <th>0</th>\n",
       "      <td>91911</td>\n",
       "      <td>52.517114</td>\n",
       "      <td>13.461760</td>\n",
       "      <td>Casablanca</td>\n",
       "      <td>Falafel Restaurant</td>\n",
       "      <td>POINT (13.46175956166999 52.51711388739101)</td>\n",
       "      <td>10</td>\n",
       "      <td>11</td>\n",
       "      <td>Friedrichshain-Kreuzberg</td>\n",
       "      <td>5.496101e+07</td>\n",
       "      <td>53758.825032</td>\n",
       "      <td>285963</td>\n",
       "    </tr>\n",
       "    <tr>\n",
       "      <th>2</th>\n",
       "      <td>91947</td>\n",
       "      <td>52.511193</td>\n",
       "      <td>13.449347</td>\n",
       "      <td>Upstalsboom Hotel</td>\n",
       "      <td>Hotel</td>\n",
       "      <td>POINT (13.44934701919601 52.511193329824)</td>\n",
       "      <td>10</td>\n",
       "      <td>11</td>\n",
       "      <td>Friedrichshain-Kreuzberg</td>\n",
       "      <td>5.496101e+07</td>\n",
       "      <td>53758.825032</td>\n",
       "      <td>285963</td>\n",
       "    </tr>\n",
       "    <tr>\n",
       "      <th>5</th>\n",
       "      <td>92007</td>\n",
       "      <td>52.504890</td>\n",
       "      <td>13.385203</td>\n",
       "      <td>relexa hotel Stuttgarter Hof</td>\n",
       "      <td>Hotel</td>\n",
       "      <td>POINT (13.385203007038 52.50488973443598)</td>\n",
       "      <td>10</td>\n",
       "      <td>11</td>\n",
       "      <td>Friedrichshain-Kreuzberg</td>\n",
       "      <td>5.496101e+07</td>\n",
       "      <td>53758.825032</td>\n",
       "      <td>285963</td>\n",
       "    </tr>\n",
       "  </tbody>\n",
       "</table>\n",
       "</div>"
      ],
      "text/plain": [
       "      id        lat        lng                          name  \\\n",
       "0  91911  52.517114  13.461760                    Casablanca   \n",
       "2  91947  52.511193  13.449347             Upstalsboom Hotel   \n",
       "5  92007  52.504890  13.385203  relexa hotel Stuttgarter Hof   \n",
       "\n",
       "          subCategory                                     geometry  \\\n",
       "0  Falafel Restaurant  POINT (13.46175956166999 52.51711388739101)   \n",
       "2               Hotel    POINT (13.44934701919601 52.511193329824)   \n",
       "5               Hotel    POINT (13.385203007038 52.50488973443598)   \n",
       "\n",
       "   index_right  OBJECTID                  DISTRICT    Shape__Are  \\\n",
       "0           10        11  Friedrichshain-Kreuzberg  5.496101e+07   \n",
       "2           10        11  Friedrichshain-Kreuzberg  5.496101e+07   \n",
       "5           10        11  Friedrichshain-Kreuzberg  5.496101e+07   \n",
       "\n",
       "     Shape__Len  POPULATION  \n",
       "0  53758.825032      285963  \n",
       "2  53758.825032      285963  \n",
       "5  53758.825032      285963  "
      ]
     },
     "execution_count": 154,
     "metadata": {},
     "output_type": "execute_result"
    }
   ],
   "source": [
    "joined = gpd.sjoin(restaurants_geodf, berlin_districs, op = 'within')\n",
    "joined.head(3)"
   ]
  },
  {
   "cell_type": "markdown",
   "metadata": {},
   "source": [
    "And here we've chained several functions to group, count, and sort the joined df to see how many restaurants are within each district:"
   ]
  },
  {
   "cell_type": "code",
   "execution_count": 160,
   "metadata": {},
   "outputs": [
    {
     "data": {
      "text/html": [
       "<div>\n",
       "<style scoped>\n",
       "    .dataframe tbody tr th:only-of-type {\n",
       "        vertical-align: middle;\n",
       "    }\n",
       "\n",
       "    .dataframe tbody tr th {\n",
       "        vertical-align: top;\n",
       "    }\n",
       "\n",
       "    .dataframe thead th {\n",
       "        text-align: right;\n",
       "    }\n",
       "</style>\n",
       "<table border=\"1\" class=\"dataframe\">\n",
       "  <thead>\n",
       "    <tr style=\"text-align: right;\">\n",
       "      <th></th>\n",
       "      <th>name</th>\n",
       "    </tr>\n",
       "    <tr>\n",
       "      <th>DISTRICT</th>\n",
       "      <th></th>\n",
       "    </tr>\n",
       "  </thead>\n",
       "  <tbody>\n",
       "    <tr>\n",
       "      <th>Mitte</th>\n",
       "      <td>477</td>\n",
       "    </tr>\n",
       "    <tr>\n",
       "      <th>Charlottenburg-Wilmersdorf</th>\n",
       "      <td>466</td>\n",
       "    </tr>\n",
       "    <tr>\n",
       "      <th>Pankow</th>\n",
       "      <td>424</td>\n",
       "    </tr>\n",
       "    <tr>\n",
       "      <th>Steglitz-Zehlendorf</th>\n",
       "      <td>388</td>\n",
       "    </tr>\n",
       "    <tr>\n",
       "      <th>Tempelhof-Schöneberg</th>\n",
       "      <td>372</td>\n",
       "    </tr>\n",
       "    <tr>\n",
       "      <th>Treptow-Köpenick</th>\n",
       "      <td>318</td>\n",
       "    </tr>\n",
       "    <tr>\n",
       "      <th>Neukölln</th>\n",
       "      <td>312</td>\n",
       "    </tr>\n",
       "    <tr>\n",
       "      <th>Reinickendorf</th>\n",
       "      <td>284</td>\n",
       "    </tr>\n",
       "    <tr>\n",
       "      <th>Friedrichshain-Kreuzberg</th>\n",
       "      <td>265</td>\n",
       "    </tr>\n",
       "    <tr>\n",
       "      <th>Lichtenberg</th>\n",
       "      <td>263</td>\n",
       "    </tr>\n",
       "    <tr>\n",
       "      <th>Spandau</th>\n",
       "      <td>262</td>\n",
       "    </tr>\n",
       "    <tr>\n",
       "      <th>Marzahn-Hellersdorf</th>\n",
       "      <td>131</td>\n",
       "    </tr>\n",
       "  </tbody>\n",
       "</table>\n",
       "</div>"
      ],
      "text/plain": [
       "                            name\n",
       "DISTRICT                        \n",
       "Mitte                        477\n",
       "Charlottenburg-Wilmersdorf   466\n",
       "Pankow                       424\n",
       "Steglitz-Zehlendorf          388\n",
       "Tempelhof-Schöneberg         372\n",
       "Treptow-Köpenick             318\n",
       "Neukölln                     312\n",
       "Reinickendorf                284\n",
       "Friedrichshain-Kreuzberg     265\n",
       "Lichtenberg                  263\n",
       "Spandau                      262\n",
       "Marzahn-Hellersdorf          131"
      ]
     },
     "execution_count": 160,
     "metadata": {},
     "output_type": "execute_result"
    }
   ],
   "source": [
    "# first subset joined df     # groupby district  # count restaurants per district # sort descending\n",
    "joined[['name', 'DISTRICT']].groupby('DISTRICT').agg('count').sort_values('name', ascending=False)"
   ]
  },
  {
   "cell_type": "code",
   "execution_count": null,
   "metadata": {},
   "outputs": [],
   "source": []
  },
  {
   "cell_type": "markdown",
   "metadata": {},
   "source": [
    "***Wanna more?***\n",
    "\n",
    "- Read the [GeoPandas Docs](http://geopandas.org/index.html)\n",
    "- Read the [Shapely Docs](https://shapely.readthedocs.io/en/stable/manual.html#)\n",
    "- Read this [article](https://medium.com/@shakasom/how-to-convert-latitude-longtitude-columns-in-csv-to-geometry-column-using-python-4219d2106dea) to learn more about????"
   ]
  },
  {
   "cell_type": "code",
   "execution_count": null,
   "metadata": {},
   "outputs": [],
   "source": []
  }
 ],
 "metadata": {
  "kernelspec": {
   "display_name": "Python 3",
   "language": "python",
   "name": "python3"
  },
  "language_info": {
   "codemirror_mode": {
    "name": "ipython",
    "version": 3
   },
   "file_extension": ".py",
   "mimetype": "text/x-python",
   "name": "python",
   "nbconvert_exporter": "python",
   "pygments_lexer": "ipython3",
   "version": "3.7.0"
  }
 },
 "nbformat": 4,
 "nbformat_minor": 2
}
