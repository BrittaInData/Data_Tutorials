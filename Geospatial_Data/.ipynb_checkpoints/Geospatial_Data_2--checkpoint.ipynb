{
 "cells": [
  {
   "cell_type": "markdown",
   "metadata": {},
   "source": [
    "# Geospatial Data Tutorial"
   ]
  },
  {
   "cell_type": "markdown",
   "metadata": {},
   "source": [
    "## #2 Geospatial Data\n",
    "\n",
    "(... Outline ...)"
   ]
  },
  {
   "cell_type": "code",
   "execution_count": null,
   "metadata": {},
   "outputs": [],
   "source": []
  },
  {
   "cell_type": "code",
   "execution_count": null,
   "metadata": {},
   "outputs": [],
   "source": []
  },
  {
   "cell_type": "code",
   "execution_count": null,
   "metadata": {},
   "outputs": [],
   "source": []
  },
  {
   "cell_type": "markdown",
   "metadata": {},
   "source": [
    "### Construct a GeoDataFrame from a DataFrame\n",
    "\n",
    "You can construct a GeoDataFrame from a DataFrame as long as you have the required pices in place: a geometry column and the Coordinate Reference System (CRS).\n",
    "\n",
    "Geometry is a special data structure and it is a required component of GeoDataFrames. To create a geometry column, first build a represenation of the geometry and then use a specific constructor from the geometry module in the Shapely package. Shapely is a Pxthon package that provides mdethod for creating and working with Points, lines and polygons. Here we create a Point geometry from latitude and longitude:"
   ]
  },
  {
   "cell_type": "code",
   "execution_count": null,
   "metadata": {},
   "outputs": [],
   "source": [
    "# create a point geometry column\n",
    "from shapely.geometry import Point\n",
    "\n",
    "# apply a lambda function that combines long. and lat. to create a tuple and constructs a Point geometry from the tuple\n",
    "schools['geometry'] = schools.apply(\n",
    "    lambda x: Point((x.Longitude, x.Latitude)), \n",
    "    axis = 1)\n",
    "\n",
    "schools.head()\n"
   ]
  },
  {
   "cell_type": "markdown",
   "metadata": {},
   "source": [
    "Now the DataFrame has a geometry column and is ready to be used a GeoDataFrame. To construct a GeoDataFrame, use the GeoDataFrame constructor, passing it the schools DataFrame, the crs to use and the geometry to use. Here we have created an object called schholl-crs object and set it to use the EPSG:432s6 CRS. We specified the geometry column we just created as the new GeoDataFrame's geometry."
   ]
  },
  {
   "cell_type": "code",
   "execution_count": null,
   "metadata": {},
   "outputs": [],
   "source": [
    "import geopandas as gpd\n",
    "\n",
    "schools_crs = {'init':  'epsg:4326'}\n",
    "schools_geo = gpd.GeoDataFrame(schools, \n",
    "                               crs = schools_crs, \n",
    "                               geometry = schools.geometry)"
   ]
  },
  {
   "cell_type": "markdown",
   "metadata": {},
   "source": [
    "We can compare both dataframes, ?? and ??, and see it's identical, only the datatype has changed. From a DataFrame to a GeoDataFrame. Notice that the GeoDataFrame's geometry uses decimal degrees to measure distances from the reference points. You can convert the geometry to measure distance in meters using the to_crs() method. Here we convert the crs to EPSG:3857. The resulting measurements are in meters. Note that the original latitude and longitude columns remain in decimal degree units. to_crs only changes the geometry column"
   ]
  },
  {
   "cell_type": "code",
   "execution_count": null,
   "metadata": {},
   "outputs": [],
   "source": [
    "# convert geometry from decimal degrees to meters\n",
    "schools_geo.geometry = schools_geo.geometry.to_crs(epsg = 3857)\n",
    "schools_geo.head(2)"
   ]
  }
 ],
 "metadata": {
  "kernelspec": {
   "display_name": "Python 3",
   "language": "python",
   "name": "python3"
  },
  "language_info": {
   "codemirror_mode": {
    "name": "ipython",
    "version": 3
   },
   "file_extension": ".py",
   "mimetype": "text/x-python",
   "name": "python",
   "nbconvert_exporter": "python",
   "pygments_lexer": "ipython3",
   "version": "3.7.0"
  }
 },
 "nbformat": 4,
 "nbformat_minor": 2
}
